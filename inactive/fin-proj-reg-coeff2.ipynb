{
 "cells": [
  {
   "cell_type": "code",
   "execution_count": 21,
   "id": "440e2d18",
   "metadata": {},
   "outputs": [],
   "source": [
    "import warnings # to deal with warnings\n",
    "warnings.filterwarnings(\"ignore\")  # supress all warnings \n",
    "\n",
    "import pandas as pd\n",
    "import numpy as np\n",
    "import scipy\n",
    "import seaborn as sns\n",
    "import re\n",
    "import random\n",
    "\n",
    "from math import sqrt\n",
    "\n",
    "from scipy.linalg import cho_factor, cho_solve\n",
    "from scipy.stats import boxcox, shapiro, norm, levene\n",
    "\n",
    "from statsmodels.formula.api import ols\n",
    "import statsmodels.api as sm\n",
    "\n",
    "from sklearn import datasets, preprocessing\n",
    "from sklearn.model_selection import train_test_split\n",
    "from sklearn.linear_model import Lasso, LassoCV # for LASSO\n",
    "from sklearn.metrics import mean_squared_error\n",
    "\n",
    "import matplotlib.pyplot as plt # for hist()\n",
    "import plotly.express as px\n",
    "from plotnine import *"
   ]
  },
  {
   "cell_type": "markdown",
   "id": "2a38fdf3",
   "metadata": {},
   "source": [
    "# Read in Data"
   ]
  },
  {
   "cell_type": "code",
   "execution_count": 6,
   "id": "04a57c11",
   "metadata": {},
   "outputs": [
    {
     "data": {
      "text/html": [
       "<div>\n",
       "<style scoped>\n",
       "    .dataframe tbody tr th:only-of-type {\n",
       "        vertical-align: middle;\n",
       "    }\n",
       "\n",
       "    .dataframe tbody tr th {\n",
       "        vertical-align: top;\n",
       "    }\n",
       "\n",
       "    .dataframe thead th {\n",
       "        text-align: right;\n",
       "    }\n",
       "</style>\n",
       "<table border=\"1\" class=\"dataframe\">\n",
       "  <thead>\n",
       "    <tr style=\"text-align: right;\">\n",
       "      <th></th>\n",
       "      <th>title</th>\n",
       "      <th>artist</th>\n",
       "      <th>top genre</th>\n",
       "      <th>year released</th>\n",
       "      <th>added</th>\n",
       "      <th>bpm</th>\n",
       "      <th>nrgy</th>\n",
       "      <th>dnce</th>\n",
       "      <th>dB</th>\n",
       "      <th>live</th>\n",
       "      <th>val</th>\n",
       "      <th>dur</th>\n",
       "      <th>acous</th>\n",
       "      <th>spch</th>\n",
       "      <th>pop</th>\n",
       "      <th>top year</th>\n",
       "      <th>artist type</th>\n",
       "    </tr>\n",
       "  </thead>\n",
       "  <tbody>\n",
       "    <tr>\n",
       "      <th>0</th>\n",
       "      <td>STARSTRUKK (feat. Katy Perry)</td>\n",
       "      <td>3OH!3</td>\n",
       "      <td>dance pop</td>\n",
       "      <td>2009.0</td>\n",
       "      <td>2022‑02‑17</td>\n",
       "      <td>140.0</td>\n",
       "      <td>81.0</td>\n",
       "      <td>61.0</td>\n",
       "      <td>-6.0</td>\n",
       "      <td>23.0</td>\n",
       "      <td>23.0</td>\n",
       "      <td>203.0</td>\n",
       "      <td>0.0</td>\n",
       "      <td>6.0</td>\n",
       "      <td>70.0</td>\n",
       "      <td>2010.0</td>\n",
       "      <td>Duo</td>\n",
       "    </tr>\n",
       "    <tr>\n",
       "      <th>1</th>\n",
       "      <td>My First Kiss (feat. Ke$ha)</td>\n",
       "      <td>3OH!3</td>\n",
       "      <td>dance pop</td>\n",
       "      <td>2010.0</td>\n",
       "      <td>2022‑02‑17</td>\n",
       "      <td>138.0</td>\n",
       "      <td>89.0</td>\n",
       "      <td>68.0</td>\n",
       "      <td>-4.0</td>\n",
       "      <td>36.0</td>\n",
       "      <td>83.0</td>\n",
       "      <td>192.0</td>\n",
       "      <td>1.0</td>\n",
       "      <td>8.0</td>\n",
       "      <td>68.0</td>\n",
       "      <td>2010.0</td>\n",
       "      <td>Duo</td>\n",
       "    </tr>\n",
       "    <tr>\n",
       "      <th>2</th>\n",
       "      <td>I Need A Dollar</td>\n",
       "      <td>Aloe Blacc</td>\n",
       "      <td>pop soul</td>\n",
       "      <td>2010.0</td>\n",
       "      <td>2022‑02‑17</td>\n",
       "      <td>95.0</td>\n",
       "      <td>48.0</td>\n",
       "      <td>84.0</td>\n",
       "      <td>-7.0</td>\n",
       "      <td>9.0</td>\n",
       "      <td>96.0</td>\n",
       "      <td>243.0</td>\n",
       "      <td>20.0</td>\n",
       "      <td>3.0</td>\n",
       "      <td>72.0</td>\n",
       "      <td>2010.0</td>\n",
       "      <td>Solo</td>\n",
       "    </tr>\n",
       "    <tr>\n",
       "      <th>3</th>\n",
       "      <td>Airplanes (feat. Hayley Williams of Paramore)</td>\n",
       "      <td>B.o.B</td>\n",
       "      <td>atl hip hop</td>\n",
       "      <td>2010.0</td>\n",
       "      <td>2022‑02‑17</td>\n",
       "      <td>93.0</td>\n",
       "      <td>87.0</td>\n",
       "      <td>66.0</td>\n",
       "      <td>-4.0</td>\n",
       "      <td>4.0</td>\n",
       "      <td>38.0</td>\n",
       "      <td>180.0</td>\n",
       "      <td>11.0</td>\n",
       "      <td>12.0</td>\n",
       "      <td>80.0</td>\n",
       "      <td>2010.0</td>\n",
       "      <td>Solo</td>\n",
       "    </tr>\n",
       "    <tr>\n",
       "      <th>4</th>\n",
       "      <td>Nothin' on You (feat. Bruno Mars)</td>\n",
       "      <td>B.o.B</td>\n",
       "      <td>atl hip hop</td>\n",
       "      <td>2010.0</td>\n",
       "      <td>2022‑02‑17</td>\n",
       "      <td>104.0</td>\n",
       "      <td>85.0</td>\n",
       "      <td>69.0</td>\n",
       "      <td>-6.0</td>\n",
       "      <td>9.0</td>\n",
       "      <td>74.0</td>\n",
       "      <td>268.0</td>\n",
       "      <td>39.0</td>\n",
       "      <td>5.0</td>\n",
       "      <td>79.0</td>\n",
       "      <td>2010.0</td>\n",
       "      <td>Solo</td>\n",
       "    </tr>\n",
       "  </tbody>\n",
       "</table>\n",
       "</div>"
      ],
      "text/plain": [
       "                                           title      artist    top genre  \\\n",
       "0                  STARSTRUKK (feat. Katy Perry)       3OH!3    dance pop   \n",
       "1                    My First Kiss (feat. Ke$ha)       3OH!3    dance pop   \n",
       "2                                I Need A Dollar  Aloe Blacc     pop soul   \n",
       "3  Airplanes (feat. Hayley Williams of Paramore)       B.o.B  atl hip hop   \n",
       "4              Nothin' on You (feat. Bruno Mars)       B.o.B  atl hip hop   \n",
       "\n",
       "   year released       added    bpm  nrgy  dnce   dB  live   val    dur  \\\n",
       "0         2009.0  2022‑02‑17  140.0  81.0  61.0 -6.0  23.0  23.0  203.0   \n",
       "1         2010.0  2022‑02‑17  138.0  89.0  68.0 -4.0  36.0  83.0  192.0   \n",
       "2         2010.0  2022‑02‑17   95.0  48.0  84.0 -7.0   9.0  96.0  243.0   \n",
       "3         2010.0  2022‑02‑17   93.0  87.0  66.0 -4.0   4.0  38.0  180.0   \n",
       "4         2010.0  2022‑02‑17  104.0  85.0  69.0 -6.0   9.0  74.0  268.0   \n",
       "\n",
       "   acous  spch   pop  top year artist type  \n",
       "0    0.0   6.0  70.0    2010.0         Duo  \n",
       "1    1.0   8.0  68.0    2010.0         Duo  \n",
       "2   20.0   3.0  72.0    2010.0        Solo  \n",
       "3   11.0  12.0  80.0    2010.0        Solo  \n",
       "4   39.0   5.0  79.0    2010.0        Solo  "
      ]
     },
     "execution_count": 6,
     "metadata": {},
     "output_type": "execute_result"
    }
   ],
   "source": [
    "data = pd.read_csv(\"./data/SpotifyData.csv\")\n",
    "df = pd.DataFrame(data)\n",
    "df = df.iloc[:-3,] # last 3 rows are all NAs so remove them\n",
    "df.head(5)"
   ]
  },
  {
   "cell_type": "markdown",
   "id": "2a2fffcd",
   "metadata": {},
   "source": [
    "Since the `top genre` has a large number of categories and a lot of \"niche\" genres with only a few entries, we recode the variable so that the categories are broader."
   ]
  },
  {
   "cell_type": "code",
   "execution_count": 7,
   "id": "4a46e51a",
   "metadata": {},
   "outputs": [
    {
     "data": {
      "text/html": [
       "<div>\n",
       "<style scoped>\n",
       "    .dataframe tbody tr th:only-of-type {\n",
       "        vertical-align: middle;\n",
       "    }\n",
       "\n",
       "    .dataframe tbody tr th {\n",
       "        vertical-align: top;\n",
       "    }\n",
       "\n",
       "    .dataframe thead th {\n",
       "        text-align: right;\n",
       "    }\n",
       "</style>\n",
       "<table border=\"1\" class=\"dataframe\">\n",
       "  <thead>\n",
       "    <tr style=\"text-align: right;\">\n",
       "      <th></th>\n",
       "      <th>title</th>\n",
       "      <th>artist</th>\n",
       "      <th>year released</th>\n",
       "      <th>added</th>\n",
       "      <th>bpm</th>\n",
       "      <th>nrgy</th>\n",
       "      <th>dnce</th>\n",
       "      <th>dB</th>\n",
       "      <th>live</th>\n",
       "      <th>val</th>\n",
       "      <th>dur</th>\n",
       "      <th>acous</th>\n",
       "      <th>spch</th>\n",
       "      <th>pop</th>\n",
       "      <th>top year</th>\n",
       "      <th>artist type</th>\n",
       "      <th>top genre broad</th>\n",
       "    </tr>\n",
       "  </thead>\n",
       "  <tbody>\n",
       "    <tr>\n",
       "      <th>0</th>\n",
       "      <td>STARSTRUKK (feat. Katy Perry)</td>\n",
       "      <td>3OH!3</td>\n",
       "      <td>2009.0</td>\n",
       "      <td>2022‑02‑17</td>\n",
       "      <td>140.0</td>\n",
       "      <td>81.0</td>\n",
       "      <td>61.0</td>\n",
       "      <td>-6.0</td>\n",
       "      <td>23.0</td>\n",
       "      <td>23.0</td>\n",
       "      <td>203.0</td>\n",
       "      <td>0.0</td>\n",
       "      <td>6.0</td>\n",
       "      <td>70.0</td>\n",
       "      <td>2010.0</td>\n",
       "      <td>Duo</td>\n",
       "      <td>dance pop</td>\n",
       "    </tr>\n",
       "    <tr>\n",
       "      <th>1</th>\n",
       "      <td>My First Kiss (feat. Ke$ha)</td>\n",
       "      <td>3OH!3</td>\n",
       "      <td>2010.0</td>\n",
       "      <td>2022‑02‑17</td>\n",
       "      <td>138.0</td>\n",
       "      <td>89.0</td>\n",
       "      <td>68.0</td>\n",
       "      <td>-4.0</td>\n",
       "      <td>36.0</td>\n",
       "      <td>83.0</td>\n",
       "      <td>192.0</td>\n",
       "      <td>1.0</td>\n",
       "      <td>8.0</td>\n",
       "      <td>68.0</td>\n",
       "      <td>2010.0</td>\n",
       "      <td>Duo</td>\n",
       "      <td>dance pop</td>\n",
       "    </tr>\n",
       "    <tr>\n",
       "      <th>2</th>\n",
       "      <td>I Need A Dollar</td>\n",
       "      <td>Aloe Blacc</td>\n",
       "      <td>2010.0</td>\n",
       "      <td>2022‑02‑17</td>\n",
       "      <td>95.0</td>\n",
       "      <td>48.0</td>\n",
       "      <td>84.0</td>\n",
       "      <td>-7.0</td>\n",
       "      <td>9.0</td>\n",
       "      <td>96.0</td>\n",
       "      <td>243.0</td>\n",
       "      <td>20.0</td>\n",
       "      <td>3.0</td>\n",
       "      <td>72.0</td>\n",
       "      <td>2010.0</td>\n",
       "      <td>Solo</td>\n",
       "      <td>pop</td>\n",
       "    </tr>\n",
       "    <tr>\n",
       "      <th>3</th>\n",
       "      <td>Airplanes (feat. Hayley Williams of Paramore)</td>\n",
       "      <td>B.o.B</td>\n",
       "      <td>2010.0</td>\n",
       "      <td>2022‑02‑17</td>\n",
       "      <td>93.0</td>\n",
       "      <td>87.0</td>\n",
       "      <td>66.0</td>\n",
       "      <td>-4.0</td>\n",
       "      <td>4.0</td>\n",
       "      <td>38.0</td>\n",
       "      <td>180.0</td>\n",
       "      <td>11.0</td>\n",
       "      <td>12.0</td>\n",
       "      <td>80.0</td>\n",
       "      <td>2010.0</td>\n",
       "      <td>Solo</td>\n",
       "      <td>hip hop</td>\n",
       "    </tr>\n",
       "    <tr>\n",
       "      <th>4</th>\n",
       "      <td>Nothin' on You (feat. Bruno Mars)</td>\n",
       "      <td>B.o.B</td>\n",
       "      <td>2010.0</td>\n",
       "      <td>2022‑02‑17</td>\n",
       "      <td>104.0</td>\n",
       "      <td>85.0</td>\n",
       "      <td>69.0</td>\n",
       "      <td>-6.0</td>\n",
       "      <td>9.0</td>\n",
       "      <td>74.0</td>\n",
       "      <td>268.0</td>\n",
       "      <td>39.0</td>\n",
       "      <td>5.0</td>\n",
       "      <td>79.0</td>\n",
       "      <td>2010.0</td>\n",
       "      <td>Solo</td>\n",
       "      <td>hip hop</td>\n",
       "    </tr>\n",
       "  </tbody>\n",
       "</table>\n",
       "</div>"
      ],
      "text/plain": [
       "                                           title      artist  year released  \\\n",
       "0                  STARSTRUKK (feat. Katy Perry)       3OH!3         2009.0   \n",
       "1                    My First Kiss (feat. Ke$ha)       3OH!3         2010.0   \n",
       "2                                I Need A Dollar  Aloe Blacc         2010.0   \n",
       "3  Airplanes (feat. Hayley Williams of Paramore)       B.o.B         2010.0   \n",
       "4              Nothin' on You (feat. Bruno Mars)       B.o.B         2010.0   \n",
       "\n",
       "        added    bpm  nrgy  dnce   dB  live   val    dur  acous  spch   pop  \\\n",
       "0  2022‑02‑17  140.0  81.0  61.0 -6.0  23.0  23.0  203.0    0.0   6.0  70.0   \n",
       "1  2022‑02‑17  138.0  89.0  68.0 -4.0  36.0  83.0  192.0    1.0   8.0  68.0   \n",
       "2  2022‑02‑17   95.0  48.0  84.0 -7.0   9.0  96.0  243.0   20.0   3.0  72.0   \n",
       "3  2022‑02‑17   93.0  87.0  66.0 -4.0   4.0  38.0  180.0   11.0  12.0  80.0   \n",
       "4  2022‑02‑17  104.0  85.0  69.0 -6.0   9.0  74.0  268.0   39.0   5.0  79.0   \n",
       "\n",
       "   top year artist type top genre broad  \n",
       "0    2010.0         Duo       dance pop  \n",
       "1    2010.0         Duo       dance pop  \n",
       "2    2010.0        Solo             pop  \n",
       "3    2010.0        Solo         hip hop  \n",
       "4    2010.0        Solo         hip hop  "
      ]
     },
     "execution_count": 7,
     "metadata": {},
     "output_type": "execute_result"
    }
   ],
   "source": [
    "df[\"top genre\"] = df[\"top genre\"].astype(str)\n",
    "mapping = ['dance pop', 'pop', 'hip hop', 'rap', 'rock', 'r&b', 'house', 'dance', 'indie', 'edm', 'country', 'boy band']\n",
    "df['top genre broad'] = df['top genre'].apply(lambda x: [k for k in mapping if re.search(k, x)])\n",
    "df['top genre broad'] = df['top genre broad'].str[0]\n",
    "df[\"top genre broad\"].fillna('other', inplace=True)\n",
    "df = df.drop([\"top genre\"], axis=1)\n",
    "df.head(5)"
   ]
  },
  {
   "cell_type": "code",
   "execution_count": 8,
   "id": "a21fedeb",
   "metadata": {
    "scrolled": false
   },
   "outputs": [
    {
     "data": {
      "text/html": [
       "<div>\n",
       "<style scoped>\n",
       "    .dataframe tbody tr th:only-of-type {\n",
       "        vertical-align: middle;\n",
       "    }\n",
       "\n",
       "    .dataframe tbody tr th {\n",
       "        vertical-align: top;\n",
       "    }\n",
       "\n",
       "    .dataframe thead th {\n",
       "        text-align: right;\n",
       "    }\n",
       "</style>\n",
       "<table border=\"1\" class=\"dataframe\">\n",
       "  <thead>\n",
       "    <tr style=\"text-align: right;\">\n",
       "      <th></th>\n",
       "      <th>intercept</th>\n",
       "      <th>bpm</th>\n",
       "      <th>nrgy</th>\n",
       "      <th>dnce</th>\n",
       "      <th>dB</th>\n",
       "      <th>live</th>\n",
       "      <th>val</th>\n",
       "      <th>dur</th>\n",
       "      <th>acous</th>\n",
       "      <th>spch</th>\n",
       "      <th>pop</th>\n",
       "      <th>top year</th>\n",
       "      <th>artist type</th>\n",
       "      <th>top genre broad</th>\n",
       "    </tr>\n",
       "  </thead>\n",
       "  <tbody>\n",
       "    <tr>\n",
       "      <th>0</th>\n",
       "      <td>1</td>\n",
       "      <td>140.0</td>\n",
       "      <td>81.0</td>\n",
       "      <td>61.0</td>\n",
       "      <td>-6.0</td>\n",
       "      <td>23.0</td>\n",
       "      <td>23.0</td>\n",
       "      <td>203.0</td>\n",
       "      <td>0.0</td>\n",
       "      <td>6.0</td>\n",
       "      <td>70.0</td>\n",
       "      <td>2010.0</td>\n",
       "      <td>Duo</td>\n",
       "      <td>dance pop</td>\n",
       "    </tr>\n",
       "    <tr>\n",
       "      <th>1</th>\n",
       "      <td>1</td>\n",
       "      <td>138.0</td>\n",
       "      <td>89.0</td>\n",
       "      <td>68.0</td>\n",
       "      <td>-4.0</td>\n",
       "      <td>36.0</td>\n",
       "      <td>83.0</td>\n",
       "      <td>192.0</td>\n",
       "      <td>1.0</td>\n",
       "      <td>8.0</td>\n",
       "      <td>68.0</td>\n",
       "      <td>2010.0</td>\n",
       "      <td>Duo</td>\n",
       "      <td>dance pop</td>\n",
       "    </tr>\n",
       "    <tr>\n",
       "      <th>2</th>\n",
       "      <td>1</td>\n",
       "      <td>95.0</td>\n",
       "      <td>48.0</td>\n",
       "      <td>84.0</td>\n",
       "      <td>-7.0</td>\n",
       "      <td>9.0</td>\n",
       "      <td>96.0</td>\n",
       "      <td>243.0</td>\n",
       "      <td>20.0</td>\n",
       "      <td>3.0</td>\n",
       "      <td>72.0</td>\n",
       "      <td>2010.0</td>\n",
       "      <td>Solo</td>\n",
       "      <td>pop</td>\n",
       "    </tr>\n",
       "    <tr>\n",
       "      <th>3</th>\n",
       "      <td>1</td>\n",
       "      <td>93.0</td>\n",
       "      <td>87.0</td>\n",
       "      <td>66.0</td>\n",
       "      <td>-4.0</td>\n",
       "      <td>4.0</td>\n",
       "      <td>38.0</td>\n",
       "      <td>180.0</td>\n",
       "      <td>11.0</td>\n",
       "      <td>12.0</td>\n",
       "      <td>80.0</td>\n",
       "      <td>2010.0</td>\n",
       "      <td>Solo</td>\n",
       "      <td>hip hop</td>\n",
       "    </tr>\n",
       "    <tr>\n",
       "      <th>4</th>\n",
       "      <td>1</td>\n",
       "      <td>104.0</td>\n",
       "      <td>85.0</td>\n",
       "      <td>69.0</td>\n",
       "      <td>-6.0</td>\n",
       "      <td>9.0</td>\n",
       "      <td>74.0</td>\n",
       "      <td>268.0</td>\n",
       "      <td>39.0</td>\n",
       "      <td>5.0</td>\n",
       "      <td>79.0</td>\n",
       "      <td>2010.0</td>\n",
       "      <td>Solo</td>\n",
       "      <td>hip hop</td>\n",
       "    </tr>\n",
       "  </tbody>\n",
       "</table>\n",
       "</div>"
      ],
      "text/plain": [
       "   intercept    bpm  nrgy  dnce   dB  live   val    dur  acous  spch   pop  \\\n",
       "0          1  140.0  81.0  61.0 -6.0  23.0  23.0  203.0    0.0   6.0  70.0   \n",
       "1          1  138.0  89.0  68.0 -4.0  36.0  83.0  192.0    1.0   8.0  68.0   \n",
       "2          1   95.0  48.0  84.0 -7.0   9.0  96.0  243.0   20.0   3.0  72.0   \n",
       "3          1   93.0  87.0  66.0 -4.0   4.0  38.0  180.0   11.0  12.0  80.0   \n",
       "4          1  104.0  85.0  69.0 -6.0   9.0  74.0  268.0   39.0   5.0  79.0   \n",
       "\n",
       "   top year artist type top genre broad  \n",
       "0    2010.0         Duo       dance pop  \n",
       "1    2010.0         Duo       dance pop  \n",
       "2    2010.0        Solo             pop  \n",
       "3    2010.0        Solo         hip hop  \n",
       "4    2010.0        Solo         hip hop  "
      ]
     },
     "execution_count": 8,
     "metadata": {},
     "output_type": "execute_result"
    }
   ],
   "source": [
    "A = df.iloc[:, [4,5,6,7,8,9,10,11,12,13,14,15,16]] # want `bpm` to `top genre broad` cols\n",
    "A.insert(0, \"intercept\", 1, True) # insert row of 1s for intercept\n",
    "A.head()"
   ]
  },
  {
   "cell_type": "markdown",
   "id": "8ed11aaf",
   "metadata": {},
   "source": [
    "Label encode the categorical variables:"
   ]
  },
  {
   "cell_type": "code",
   "execution_count": 9,
   "id": "b2664bf7",
   "metadata": {},
   "outputs": [],
   "source": [
    "label_encoder = preprocessing.LabelEncoder()\n",
    "A[\"top year\"] = label_encoder.fit_transform(A[\"top year\"])\n",
    "A[\"artist type\"] = label_encoder.fit_transform(A[\"artist type\"])\n",
    "A[\"top genre broad\"] = label_encoder.fit_transform(A[\"top genre broad\"])"
   ]
  },
  {
   "cell_type": "markdown",
   "id": "534dab39",
   "metadata": {},
   "source": [
    "# Checking Assumptions for Linear Model "
   ]
  },
  {
   "cell_type": "markdown",
   "id": "12965336",
   "metadata": {},
   "source": [
    "## Normality Assumption"
   ]
  },
  {
   "cell_type": "code",
   "execution_count": 10,
   "id": "93b0f23b",
   "metadata": {},
   "outputs": [
    {
     "data": {
      "text/html": [
       "<div>\n",
       "<style scoped>\n",
       "    .dataframe tbody tr th:only-of-type {\n",
       "        vertical-align: middle;\n",
       "    }\n",
       "\n",
       "    .dataframe tbody tr th {\n",
       "        vertical-align: top;\n",
       "    }\n",
       "\n",
       "    .dataframe thead th {\n",
       "        text-align: right;\n",
       "    }\n",
       "</style>\n",
       "<table border=\"1\" class=\"dataframe\">\n",
       "  <thead>\n",
       "    <tr style=\"text-align: right;\">\n",
       "      <th></th>\n",
       "      <th>title</th>\n",
       "      <th>artist</th>\n",
       "      <th>year released</th>\n",
       "      <th>added</th>\n",
       "      <th>bpm</th>\n",
       "      <th>nrgy</th>\n",
       "      <th>dnce</th>\n",
       "      <th>dB</th>\n",
       "      <th>live</th>\n",
       "      <th>val</th>\n",
       "      <th>dur</th>\n",
       "      <th>acous</th>\n",
       "      <th>spch</th>\n",
       "      <th>pop</th>\n",
       "      <th>top_year</th>\n",
       "      <th>artist_type</th>\n",
       "      <th>top_genre_broad</th>\n",
       "    </tr>\n",
       "  </thead>\n",
       "  <tbody>\n",
       "    <tr>\n",
       "      <th>0</th>\n",
       "      <td>STARSTRUKK (feat. Katy Perry)</td>\n",
       "      <td>3OH!3</td>\n",
       "      <td>2009.0</td>\n",
       "      <td>2022‑02‑17</td>\n",
       "      <td>140.0</td>\n",
       "      <td>81.0</td>\n",
       "      <td>61.0</td>\n",
       "      <td>-6.0</td>\n",
       "      <td>23.0</td>\n",
       "      <td>23.0</td>\n",
       "      <td>203.0</td>\n",
       "      <td>0.0</td>\n",
       "      <td>6.0</td>\n",
       "      <td>70.0</td>\n",
       "      <td>2010.0</td>\n",
       "      <td>Duo</td>\n",
       "      <td>dance pop</td>\n",
       "    </tr>\n",
       "    <tr>\n",
       "      <th>1</th>\n",
       "      <td>My First Kiss (feat. Ke$ha)</td>\n",
       "      <td>3OH!3</td>\n",
       "      <td>2010.0</td>\n",
       "      <td>2022‑02‑17</td>\n",
       "      <td>138.0</td>\n",
       "      <td>89.0</td>\n",
       "      <td>68.0</td>\n",
       "      <td>-4.0</td>\n",
       "      <td>36.0</td>\n",
       "      <td>83.0</td>\n",
       "      <td>192.0</td>\n",
       "      <td>1.0</td>\n",
       "      <td>8.0</td>\n",
       "      <td>68.0</td>\n",
       "      <td>2010.0</td>\n",
       "      <td>Duo</td>\n",
       "      <td>dance pop</td>\n",
       "    </tr>\n",
       "    <tr>\n",
       "      <th>2</th>\n",
       "      <td>I Need A Dollar</td>\n",
       "      <td>Aloe Blacc</td>\n",
       "      <td>2010.0</td>\n",
       "      <td>2022‑02‑17</td>\n",
       "      <td>95.0</td>\n",
       "      <td>48.0</td>\n",
       "      <td>84.0</td>\n",
       "      <td>-7.0</td>\n",
       "      <td>9.0</td>\n",
       "      <td>96.0</td>\n",
       "      <td>243.0</td>\n",
       "      <td>20.0</td>\n",
       "      <td>3.0</td>\n",
       "      <td>72.0</td>\n",
       "      <td>2010.0</td>\n",
       "      <td>Solo</td>\n",
       "      <td>pop</td>\n",
       "    </tr>\n",
       "    <tr>\n",
       "      <th>3</th>\n",
       "      <td>Airplanes (feat. Hayley Williams of Paramore)</td>\n",
       "      <td>B.o.B</td>\n",
       "      <td>2010.0</td>\n",
       "      <td>2022‑02‑17</td>\n",
       "      <td>93.0</td>\n",
       "      <td>87.0</td>\n",
       "      <td>66.0</td>\n",
       "      <td>-4.0</td>\n",
       "      <td>4.0</td>\n",
       "      <td>38.0</td>\n",
       "      <td>180.0</td>\n",
       "      <td>11.0</td>\n",
       "      <td>12.0</td>\n",
       "      <td>80.0</td>\n",
       "      <td>2010.0</td>\n",
       "      <td>Solo</td>\n",
       "      <td>hip hop</td>\n",
       "    </tr>\n",
       "    <tr>\n",
       "      <th>4</th>\n",
       "      <td>Nothin' on You (feat. Bruno Mars)</td>\n",
       "      <td>B.o.B</td>\n",
       "      <td>2010.0</td>\n",
       "      <td>2022‑02‑17</td>\n",
       "      <td>104.0</td>\n",
       "      <td>85.0</td>\n",
       "      <td>69.0</td>\n",
       "      <td>-6.0</td>\n",
       "      <td>9.0</td>\n",
       "      <td>74.0</td>\n",
       "      <td>268.0</td>\n",
       "      <td>39.0</td>\n",
       "      <td>5.0</td>\n",
       "      <td>79.0</td>\n",
       "      <td>2010.0</td>\n",
       "      <td>Solo</td>\n",
       "      <td>hip hop</td>\n",
       "    </tr>\n",
       "  </tbody>\n",
       "</table>\n",
       "</div>"
      ],
      "text/plain": [
       "                                           title      artist  year released  \\\n",
       "0                  STARSTRUKK (feat. Katy Perry)       3OH!3         2009.0   \n",
       "1                    My First Kiss (feat. Ke$ha)       3OH!3         2010.0   \n",
       "2                                I Need A Dollar  Aloe Blacc         2010.0   \n",
       "3  Airplanes (feat. Hayley Williams of Paramore)       B.o.B         2010.0   \n",
       "4              Nothin' on You (feat. Bruno Mars)       B.o.B         2010.0   \n",
       "\n",
       "        added    bpm  nrgy  dnce   dB  live   val    dur  acous  spch   pop  \\\n",
       "0  2022‑02‑17  140.0  81.0  61.0 -6.0  23.0  23.0  203.0    0.0   6.0  70.0   \n",
       "1  2022‑02‑17  138.0  89.0  68.0 -4.0  36.0  83.0  192.0    1.0   8.0  68.0   \n",
       "2  2022‑02‑17   95.0  48.0  84.0 -7.0   9.0  96.0  243.0   20.0   3.0  72.0   \n",
       "3  2022‑02‑17   93.0  87.0  66.0 -4.0   4.0  38.0  180.0   11.0  12.0  80.0   \n",
       "4  2022‑02‑17  104.0  85.0  69.0 -6.0   9.0  74.0  268.0   39.0   5.0  79.0   \n",
       "\n",
       "   top_year artist_type top_genre_broad  \n",
       "0    2010.0         Duo       dance pop  \n",
       "1    2010.0         Duo       dance pop  \n",
       "2    2010.0        Solo             pop  \n",
       "3    2010.0        Solo         hip hop  \n",
       "4    2010.0        Solo         hip hop  "
      ]
     },
     "execution_count": 10,
     "metadata": {},
     "output_type": "execute_result"
    }
   ],
   "source": [
    "# to avoid errors when creating ols model\n",
    "df = df.rename(columns={\"top year\": \"top_year\", \"top genre broad\": \"top_genre_broad\", \"artist type\": \"artist_type\"})\n",
    "df.head()"
   ]
  },
  {
   "cell_type": "code",
   "execution_count": 11,
   "id": "483c1cf5",
   "metadata": {
    "scrolled": true
   },
   "outputs": [
    {
     "data": {
      "image/png": "[encoded data removed]",
      "text/plain": [
       "<Figure size 432x288 with 1 Axes>"
      ]
     },
     "metadata": {
      "needs_background": "light"
     },
     "output_type": "display_data"
    }
   ],
   "source": [
    "# building the model with the interaction terms\n",
    "model = ols(\"pop ~ bpm + nrgy + dnce + dB + live + val + dur + acous + spch + C(top_year) + C(artist_type) + C(top_genre_broad) + C(top_year):C(top_genre_broad) + C(top_year):C(artist_type) + C(top_genre_broad):C(artist_type)\", data=df).fit()\n",
    "\n",
    "# creating the normal probability plot\n",
    "sm.qqplot(model.resid, line=\"45\")\n",
    "plt.xlabel(\"Theoretical Quantiles\")\n",
    "plt.ylabel(\"Standardized Residuals\")\n",
    "plt.title(\"Normal Probability Plot\")\n",
    "plt.show()"
   ]
  },
  {
   "cell_type": "markdown",
   "id": "62c70e0a",
   "metadata": {},
   "source": [
    "The points don't follow the line at all, with large quantiles (positive and negative) indicating heavy tails in the data's distribution. The data violates the normality assumption.\n",
    "\n",
    "Due to the response variable violating the normality assumption, a transformation is carried out:"
   ]
  },
  {
   "cell_type": "code",
   "execution_count": 12,
   "id": "3c71abf3",
   "metadata": {},
   "outputs": [
    {
     "name": "stdout",
     "output_type": "stream",
     "text": [
      "[3.27087407]\n"
     ]
    }
   ],
   "source": [
    "pt = preprocessing.PowerTransformer(method=\"yeo-johnson\")\n",
    "pop_df = pd.DataFrame(A[\"pop\"])\n",
    "pt.fit(pop_df)\n",
    "print(pt.lambdas_)  # optimal lambda value"
   ]
  },
  {
   "cell_type": "code",
   "execution_count": 13,
   "id": "e85a09c2",
   "metadata": {},
   "outputs": [],
   "source": [
    "transformed_data = pt.transform(pop_df)\n",
    "df[\"pop\"] = transformed_data\n",
    "A[\"pop\"] = transformed_data"
   ]
  },
  {
   "cell_type": "code",
   "execution_count": 14,
   "id": "e824b52e",
   "metadata": {},
   "outputs": [
    {
     "data": {
      "image/png": "[encoded data removed]",
      "text/plain": [
       "<Figure size 432x288 with 1 Axes>"
      ]
     },
     "metadata": {
      "needs_background": "light"
     },
     "output_type": "display_data"
    }
   ],
   "source": [
    "# re-building the model with the interaction term\n",
    "model2 = ols(\"pop ~ bpm + nrgy + dnce + dB + live + val + dur + acous + spch + C(top_year) + C(artist_type) + C(top_genre_broad) + C(top_year):C(top_genre_broad) + C(top_year):C(artist_type) + C(top_genre_broad):C(artist_type)\", data=df).fit()\n",
    "\n",
    "# re-creating the normal probability plot\n",
    "sm.qqplot(model2.resid, line=\"45\")\n",
    "plt.xlabel(\"Theoretical Quantiles\")\n",
    "plt.ylabel(\"Standardized Residuals\")\n",
    "plt.title(\"Normal Probability Plot\")\n",
    "plt.show()"
   ]
  },
  {
   "cell_type": "code",
   "execution_count": 15,
   "id": "7fb54dbb",
   "metadata": {
    "scrolled": false
   },
   "outputs": [
    {
     "data": {
      "text/html": [
       "<div>\n",
       "<style scoped>\n",
       "    .dataframe tbody tr th:only-of-type {\n",
       "        vertical-align: middle;\n",
       "    }\n",
       "\n",
       "    .dataframe tbody tr th {\n",
       "        vertical-align: top;\n",
       "    }\n",
       "\n",
       "    .dataframe thead th {\n",
       "        text-align: right;\n",
       "    }\n",
       "</style>\n",
       "<table border=\"1\" class=\"dataframe\">\n",
       "  <thead>\n",
       "    <tr style=\"text-align: right;\">\n",
       "      <th></th>\n",
       "      <th>intercept</th>\n",
       "      <th>bpm</th>\n",
       "      <th>nrgy</th>\n",
       "      <th>dnce</th>\n",
       "      <th>dB</th>\n",
       "      <th>live</th>\n",
       "      <th>val</th>\n",
       "      <th>dur</th>\n",
       "      <th>acous</th>\n",
       "      <th>spch</th>\n",
       "      <th>top year</th>\n",
       "      <th>artist type</th>\n",
       "      <th>top genre broad</th>\n",
       "      <th>pop</th>\n",
       "    </tr>\n",
       "  </thead>\n",
       "  <tbody>\n",
       "    <tr>\n",
       "      <th>0</th>\n",
       "      <td>1</td>\n",
       "      <td>140.0</td>\n",
       "      <td>81.0</td>\n",
       "      <td>61.0</td>\n",
       "      <td>-6.0</td>\n",
       "      <td>23.0</td>\n",
       "      <td>23.0</td>\n",
       "      <td>203.0</td>\n",
       "      <td>0.0</td>\n",
       "      <td>6.0</td>\n",
       "      <td>0</td>\n",
       "      <td>1</td>\n",
       "      <td>3</td>\n",
       "      <td>-0.688503</td>\n",
       "    </tr>\n",
       "    <tr>\n",
       "      <th>1</th>\n",
       "      <td>1</td>\n",
       "      <td>138.0</td>\n",
       "      <td>89.0</td>\n",
       "      <td>68.0</td>\n",
       "      <td>-4.0</td>\n",
       "      <td>36.0</td>\n",
       "      <td>83.0</td>\n",
       "      <td>192.0</td>\n",
       "      <td>1.0</td>\n",
       "      <td>8.0</td>\n",
       "      <td>0</td>\n",
       "      <td>1</td>\n",
       "      <td>3</td>\n",
       "      <td>-0.893216</td>\n",
       "    </tr>\n",
       "    <tr>\n",
       "      <th>2</th>\n",
       "      <td>1</td>\n",
       "      <td>95.0</td>\n",
       "      <td>48.0</td>\n",
       "      <td>84.0</td>\n",
       "      <td>-7.0</td>\n",
       "      <td>9.0</td>\n",
       "      <td>96.0</td>\n",
       "      <td>243.0</td>\n",
       "      <td>20.0</td>\n",
       "      <td>3.0</td>\n",
       "      <td>0</td>\n",
       "      <td>2</td>\n",
       "      <td>9</td>\n",
       "      <td>-0.470267</td>\n",
       "    </tr>\n",
       "    <tr>\n",
       "      <th>3</th>\n",
       "      <td>1</td>\n",
       "      <td>93.0</td>\n",
       "      <td>87.0</td>\n",
       "      <td>66.0</td>\n",
       "      <td>-4.0</td>\n",
       "      <td>4.0</td>\n",
       "      <td>38.0</td>\n",
       "      <td>180.0</td>\n",
       "      <td>11.0</td>\n",
       "      <td>12.0</td>\n",
       "      <td>0</td>\n",
       "      <td>2</td>\n",
       "      <td>5</td>\n",
       "      <td>0.547680</td>\n",
       "    </tr>\n",
       "    <tr>\n",
       "      <th>4</th>\n",
       "      <td>1</td>\n",
       "      <td>104.0</td>\n",
       "      <td>85.0</td>\n",
       "      <td>69.0</td>\n",
       "      <td>-6.0</td>\n",
       "      <td>9.0</td>\n",
       "      <td>74.0</td>\n",
       "      <td>268.0</td>\n",
       "      <td>39.0</td>\n",
       "      <td>5.0</td>\n",
       "      <td>0</td>\n",
       "      <td>2</td>\n",
       "      <td>5</td>\n",
       "      <td>0.407101</td>\n",
       "    </tr>\n",
       "  </tbody>\n",
       "</table>\n",
       "</div>"
      ],
      "text/plain": [
       "   intercept    bpm  nrgy  dnce   dB  live   val    dur  acous  spch  \\\n",
       "0          1  140.0  81.0  61.0 -6.0  23.0  23.0  203.0    0.0   6.0   \n",
       "1          1  138.0  89.0  68.0 -4.0  36.0  83.0  192.0    1.0   8.0   \n",
       "2          1   95.0  48.0  84.0 -7.0   9.0  96.0  243.0   20.0   3.0   \n",
       "3          1   93.0  87.0  66.0 -4.0   4.0  38.0  180.0   11.0  12.0   \n",
       "4          1  104.0  85.0  69.0 -6.0   9.0  74.0  268.0   39.0   5.0   \n",
       "\n",
       "   top year  artist type  top genre broad       pop  \n",
       "0         0            1                3 -0.688503  \n",
       "1         0            1                3 -0.893216  \n",
       "2         0            2                9 -0.470267  \n",
       "3         0            2                5  0.547680  \n",
       "4         0            2                5  0.407101  "
      ]
     },
     "execution_count": 15,
     "metadata": {},
     "output_type": "execute_result"
    }
   ],
   "source": [
    "A = A[[col for col in A if col not in [\"pop\"]] + [\"pop\"]] # move 'pop' column to last column\n",
    "A.head(5)"
   ]
  },
  {
   "cell_type": "markdown",
   "id": "3ca1bb2f",
   "metadata": {},
   "source": [
    "### Shapiro-Wilk's Test"
   ]
  },
  {
   "cell_type": "markdown",
   "id": "5197cd22",
   "metadata": {},
   "source": [
    "We will also perform a Shapiro-Wilk's test to quantify the ability to accept/reject the normality assumption."
   ]
  },
  {
   "cell_type": "code",
   "execution_count": 16,
   "id": "9c825df4",
   "metadata": {},
   "outputs": [
    {
     "name": "stdout",
     "output_type": "stream",
     "text": [
      "0.9982758164405823 0.417789489030838\n"
     ]
    }
   ],
   "source": [
    "# https://docs.scipy.org/doc/scipy/reference/generated/scipy.stats.shapiro.html\n",
    "w, pvalue = shapiro(model2.resid)\n",
    "print(w, pvalue)"
   ]
  },
  {
   "cell_type": "markdown",
   "id": "14b393b3",
   "metadata": {},
   "source": [
    "Since the p-value of about 0.4178 is greater than $\\alpha$  = 0.05, we fail to reject the null hypothesis. There is stiatistically significant evidence to suggest that the normality assumption holds.\n",
    "\n",
    "Lastly, we will use a histogram to visualize that the residuals are approximately normally distributed."
   ]
  },
  {
   "cell_type": "code",
   "execution_count": 17,
   "id": "0e8df619",
   "metadata": {},
   "outputs": [
    {
     "data": {
      "image/png": "[encoded data removed]",
      "text/plain": [
       "<Figure size 432x288 with 1 Axes>"
      ]
     },
     "metadata": {
      "needs_background": "light"
     },
     "output_type": "display_data"
    }
   ],
   "source": [
    "# Reference: https://stackoverflow.com/questions/20011122/fitting-a-normal-distribution-to-1d-data\n",
    "\n",
    "# plot the residuals as a histogram\n",
    "plt.hist(model2.resid, bins=\"auto\", density=True, histtype=\"bar\", ec=\"k\")\n",
    "mu, std = norm.fit(model2.resid)\n",
    "xmin, xmax = plt.xlim()\n",
    "x = np.linspace(xmin, xmax, 100)\n",
    "p = norm.pdf(x, mu, std)\n",
    "plt.plot(x, p, \"k\", linewidth=2)\n",
    "plt.xlabel(\"Residuals\")\n",
    "plt.ylabel(\"Frequency\")\n",
    "plt.title(\"Residuals Distribution\")\n",
    "plt.show()"
   ]
  },
  {
   "cell_type": "markdown",
   "id": "236e841e",
   "metadata": {},
   "source": [
    "   ## Homoscedasticity Assumption"
   ]
  },
  {
   "cell_type": "markdown",
   "id": "7af8be5f",
   "metadata": {},
   "source": [
    "To visualize our data's compliance to the homoscedasticity assumption, we will evaluate the residuals vs. fitted plot, as well as the Scale-Location plot. This plot displays the model's fitted values vs. square root of the standardized residuals."
   ]
  },
  {
   "cell_type": "code",
   "execution_count": 18,
   "id": "c2db1882",
   "metadata": {
    "scrolled": true
   },
   "outputs": [
    {
     "ename": "TypeError",
     "evalue": "can't multiply sequence by non-int of type 'float'",
     "output_type": "error",
     "traceback": [
      "\u001b[1;31m---------------------------------------------------------------------------\u001b[0m",
      "\u001b[1;31mTypeError\u001b[0m                                 Traceback (most recent call last)",
      "\u001b[1;32m~\\AppData\\Local\\Temp/ipykernel_16240/239980645.py\u001b[0m in \u001b[0;36m<module>\u001b[1;34m\u001b[0m\n\u001b[0;32m     18\u001b[0m \u001b[1;31m# plot details and formatting\u001b[0m\u001b[1;33m\u001b[0m\u001b[1;33m\u001b[0m\u001b[0m\n\u001b[0;32m     19\u001b[0m \u001b[0mplot_lm_1\u001b[0m \u001b[1;33m=\u001b[0m \u001b[0mplt\u001b[0m\u001b[1;33m.\u001b[0m\u001b[0mfigure\u001b[0m\u001b[1;33m(\u001b[0m\u001b[1;33m)\u001b[0m\u001b[1;33m\u001b[0m\u001b[1;33m\u001b[0m\u001b[0m\n\u001b[1;32m---> 20\u001b[1;33m plot_lm_1.axes[0] = sns.residplot(\n\u001b[0m\u001b[0;32m     21\u001b[0m     \u001b[0mmodel_fitted_y\u001b[0m\u001b[1;33m,\u001b[0m\u001b[1;33m\u001b[0m\u001b[1;33m\u001b[0m\u001b[0m\n\u001b[0;32m     22\u001b[0m     \u001b[0mdf\u001b[0m\u001b[1;33m.\u001b[0m\u001b[0mcolumns\u001b[0m\u001b[1;33m[\u001b[0m\u001b[1;36m16\u001b[0m\u001b[1;33m]\u001b[0m\u001b[1;33m,\u001b[0m\u001b[1;33m\u001b[0m\u001b[1;33m\u001b[0m\u001b[0m\n",
      "\u001b[1;32m~\\anaconda3\\lib\\site-packages\\seaborn\\_decorators.py\u001b[0m in \u001b[0;36minner_f\u001b[1;34m(*args, **kwargs)\u001b[0m\n\u001b[0;32m     44\u001b[0m             )\n\u001b[0;32m     45\u001b[0m         \u001b[0mkwargs\u001b[0m\u001b[1;33m.\u001b[0m\u001b[0mupdate\u001b[0m\u001b[1;33m(\u001b[0m\u001b[1;33m{\u001b[0m\u001b[0mk\u001b[0m\u001b[1;33m:\u001b[0m \u001b[0marg\u001b[0m \u001b[1;32mfor\u001b[0m \u001b[0mk\u001b[0m\u001b[1;33m,\u001b[0m \u001b[0marg\u001b[0m \u001b[1;32min\u001b[0m \u001b[0mzip\u001b[0m\u001b[1;33m(\u001b[0m\u001b[0msig\u001b[0m\u001b[1;33m.\u001b[0m\u001b[0mparameters\u001b[0m\u001b[1;33m,\u001b[0m \u001b[0margs\u001b[0m\u001b[1;33m)\u001b[0m\u001b[1;33m}\u001b[0m\u001b[1;33m)\u001b[0m\u001b[1;33m\u001b[0m\u001b[1;33m\u001b[0m\u001b[0m\n\u001b[1;32m---> 46\u001b[1;33m         \u001b[1;32mreturn\u001b[0m \u001b[0mf\u001b[0m\u001b[1;33m(\u001b[0m\u001b[1;33m**\u001b[0m\u001b[0mkwargs\u001b[0m\u001b[1;33m)\u001b[0m\u001b[1;33m\u001b[0m\u001b[1;33m\u001b[0m\u001b[0m\n\u001b[0m\u001b[0;32m     47\u001b[0m     \u001b[1;32mreturn\u001b[0m \u001b[0minner_f\u001b[0m\u001b[1;33m\u001b[0m\u001b[1;33m\u001b[0m\u001b[0m\n\u001b[0;32m     48\u001b[0m \u001b[1;33m\u001b[0m\u001b[0m\n",
      "\u001b[1;32m~\\anaconda3\\lib\\site-packages\\seaborn\\regression.py\u001b[0m in \u001b[0;36mresidplot\u001b[1;34m(x, y, data, lowess, x_partial, y_partial, order, robust, dropna, label, color, scatter_kws, line_kws, ax)\u001b[0m\n\u001b[0;32m   1103\u001b[0m \u001b[1;33m\u001b[0m\u001b[0m\n\u001b[0;32m   1104\u001b[0m     \u001b[1;31m# Calculate the residual from a linear regression\u001b[0m\u001b[1;33m\u001b[0m\u001b[1;33m\u001b[0m\u001b[0m\n\u001b[1;32m-> 1105\u001b[1;33m     \u001b[0m_\u001b[0m\u001b[1;33m,\u001b[0m \u001b[0myhat\u001b[0m\u001b[1;33m,\u001b[0m \u001b[0m_\u001b[0m \u001b[1;33m=\u001b[0m \u001b[0mplotter\u001b[0m\u001b[1;33m.\u001b[0m\u001b[0mfit_regression\u001b[0m\u001b[1;33m(\u001b[0m\u001b[0mgrid\u001b[0m\u001b[1;33m=\u001b[0m\u001b[0mplotter\u001b[0m\u001b[1;33m.\u001b[0m\u001b[0mx\u001b[0m\u001b[1;33m)\u001b[0m\u001b[1;33m\u001b[0m\u001b[1;33m\u001b[0m\u001b[0m\n\u001b[0m\u001b[0;32m   1106\u001b[0m     \u001b[0mplotter\u001b[0m\u001b[1;33m.\u001b[0m\u001b[0my\u001b[0m \u001b[1;33m=\u001b[0m \u001b[0mplotter\u001b[0m\u001b[1;33m.\u001b[0m\u001b[0my\u001b[0m \u001b[1;33m-\u001b[0m \u001b[0myhat\u001b[0m\u001b[1;33m\u001b[0m\u001b[1;33m\u001b[0m\u001b[0m\n\u001b[0;32m   1107\u001b[0m \u001b[1;33m\u001b[0m\u001b[0m\n",
      "\u001b[1;32m~\\anaconda3\\lib\\site-packages\\seaborn\\regression.py\u001b[0m in \u001b[0;36mfit_regression\u001b[1;34m(self, ax, x_range, grid)\u001b[0m\n\u001b[0;32m    219\u001b[0m             \u001b[0myhat\u001b[0m\u001b[1;33m,\u001b[0m \u001b[0myhat_boots\u001b[0m \u001b[1;33m=\u001b[0m \u001b[0mself\u001b[0m\u001b[1;33m.\u001b[0m\u001b[0mfit_logx\u001b[0m\u001b[1;33m(\u001b[0m\u001b[0mgrid\u001b[0m\u001b[1;33m)\u001b[0m\u001b[1;33m\u001b[0m\u001b[1;33m\u001b[0m\u001b[0m\n\u001b[0;32m    220\u001b[0m         \u001b[1;32melse\u001b[0m\u001b[1;33m:\u001b[0m\u001b[1;33m\u001b[0m\u001b[1;33m\u001b[0m\u001b[0m\n\u001b[1;32m--> 221\u001b[1;33m             \u001b[0myhat\u001b[0m\u001b[1;33m,\u001b[0m \u001b[0myhat_boots\u001b[0m \u001b[1;33m=\u001b[0m \u001b[0mself\u001b[0m\u001b[1;33m.\u001b[0m\u001b[0mfit_fast\u001b[0m\u001b[1;33m(\u001b[0m\u001b[0mgrid\u001b[0m\u001b[1;33m)\u001b[0m\u001b[1;33m\u001b[0m\u001b[1;33m\u001b[0m\u001b[0m\n\u001b[0m\u001b[0;32m    222\u001b[0m \u001b[1;33m\u001b[0m\u001b[0m\n\u001b[0;32m    223\u001b[0m         \u001b[1;31m# Compute the confidence interval at each grid point\u001b[0m\u001b[1;33m\u001b[0m\u001b[1;33m\u001b[0m\u001b[0m\n",
      "\u001b[1;32m~\\anaconda3\\lib\\site-packages\\seaborn\\regression.py\u001b[0m in \u001b[0;36mfit_fast\u001b[1;34m(self, grid)\u001b[0m\n\u001b[0;32m    236\u001b[0m         \u001b[0mX\u001b[0m\u001b[1;33m,\u001b[0m \u001b[0my\u001b[0m \u001b[1;33m=\u001b[0m \u001b[0mnp\u001b[0m\u001b[1;33m.\u001b[0m\u001b[0mc_\u001b[0m\u001b[1;33m[\u001b[0m\u001b[0mnp\u001b[0m\u001b[1;33m.\u001b[0m\u001b[0mones\u001b[0m\u001b[1;33m(\u001b[0m\u001b[0mlen\u001b[0m\u001b[1;33m(\u001b[0m\u001b[0mself\u001b[0m\u001b[1;33m.\u001b[0m\u001b[0mx\u001b[0m\u001b[1;33m)\u001b[0m\u001b[1;33m)\u001b[0m\u001b[1;33m,\u001b[0m \u001b[0mself\u001b[0m\u001b[1;33m.\u001b[0m\u001b[0mx\u001b[0m\u001b[1;33m]\u001b[0m\u001b[1;33m,\u001b[0m \u001b[0mself\u001b[0m\u001b[1;33m.\u001b[0m\u001b[0my\u001b[0m\u001b[1;33m\u001b[0m\u001b[1;33m\u001b[0m\u001b[0m\n\u001b[0;32m    237\u001b[0m         \u001b[0mgrid\u001b[0m \u001b[1;33m=\u001b[0m \u001b[0mnp\u001b[0m\u001b[1;33m.\u001b[0m\u001b[0mc_\u001b[0m\u001b[1;33m[\u001b[0m\u001b[0mnp\u001b[0m\u001b[1;33m.\u001b[0m\u001b[0mones\u001b[0m\u001b[1;33m(\u001b[0m\u001b[0mlen\u001b[0m\u001b[1;33m(\u001b[0m\u001b[0mgrid\u001b[0m\u001b[1;33m)\u001b[0m\u001b[1;33m)\u001b[0m\u001b[1;33m,\u001b[0m \u001b[0mgrid\u001b[0m\u001b[1;33m]\u001b[0m\u001b[1;33m\u001b[0m\u001b[1;33m\u001b[0m\u001b[0m\n\u001b[1;32m--> 238\u001b[1;33m         \u001b[0myhat\u001b[0m \u001b[1;33m=\u001b[0m \u001b[0mgrid\u001b[0m\u001b[1;33m.\u001b[0m\u001b[0mdot\u001b[0m\u001b[1;33m(\u001b[0m\u001b[0mreg_func\u001b[0m\u001b[1;33m(\u001b[0m\u001b[0mX\u001b[0m\u001b[1;33m,\u001b[0m \u001b[0my\u001b[0m\u001b[1;33m)\u001b[0m\u001b[1;33m)\u001b[0m\u001b[1;33m\u001b[0m\u001b[1;33m\u001b[0m\u001b[0m\n\u001b[0m\u001b[0;32m    239\u001b[0m         \u001b[1;32mif\u001b[0m \u001b[0mself\u001b[0m\u001b[1;33m.\u001b[0m\u001b[0mci\u001b[0m \u001b[1;32mis\u001b[0m \u001b[1;32mNone\u001b[0m\u001b[1;33m:\u001b[0m\u001b[1;33m\u001b[0m\u001b[1;33m\u001b[0m\u001b[0m\n\u001b[0;32m    240\u001b[0m             \u001b[1;32mreturn\u001b[0m \u001b[0myhat\u001b[0m\u001b[1;33m,\u001b[0m \u001b[1;32mNone\u001b[0m\u001b[1;33m\u001b[0m\u001b[1;33m\u001b[0m\u001b[0m\n",
      "\u001b[1;32m~\\anaconda3\\lib\\site-packages\\seaborn\\regression.py\u001b[0m in \u001b[0;36mreg_func\u001b[1;34m(_x, _y)\u001b[0m\n\u001b[0;32m    232\u001b[0m         \u001b[1;34m\"\"\"Low-level regression and prediction using linear algebra.\"\"\"\u001b[0m\u001b[1;33m\u001b[0m\u001b[1;33m\u001b[0m\u001b[0m\n\u001b[0;32m    233\u001b[0m         \u001b[1;32mdef\u001b[0m \u001b[0mreg_func\u001b[0m\u001b[1;33m(\u001b[0m\u001b[0m_x\u001b[0m\u001b[1;33m,\u001b[0m \u001b[0m_y\u001b[0m\u001b[1;33m)\u001b[0m\u001b[1;33m:\u001b[0m\u001b[1;33m\u001b[0m\u001b[1;33m\u001b[0m\u001b[0m\n\u001b[1;32m--> 234\u001b[1;33m             \u001b[1;32mreturn\u001b[0m \u001b[0mnp\u001b[0m\u001b[1;33m.\u001b[0m\u001b[0mlinalg\u001b[0m\u001b[1;33m.\u001b[0m\u001b[0mpinv\u001b[0m\u001b[1;33m(\u001b[0m\u001b[0m_x\u001b[0m\u001b[1;33m)\u001b[0m\u001b[1;33m.\u001b[0m\u001b[0mdot\u001b[0m\u001b[1;33m(\u001b[0m\u001b[0m_y\u001b[0m\u001b[1;33m)\u001b[0m\u001b[1;33m\u001b[0m\u001b[1;33m\u001b[0m\u001b[0m\n\u001b[0m\u001b[0;32m    235\u001b[0m \u001b[1;33m\u001b[0m\u001b[0m\n\u001b[0;32m    236\u001b[0m         \u001b[0mX\u001b[0m\u001b[1;33m,\u001b[0m \u001b[0my\u001b[0m \u001b[1;33m=\u001b[0m \u001b[0mnp\u001b[0m\u001b[1;33m.\u001b[0m\u001b[0mc_\u001b[0m\u001b[1;33m[\u001b[0m\u001b[0mnp\u001b[0m\u001b[1;33m.\u001b[0m\u001b[0mones\u001b[0m\u001b[1;33m(\u001b[0m\u001b[0mlen\u001b[0m\u001b[1;33m(\u001b[0m\u001b[0mself\u001b[0m\u001b[1;33m.\u001b[0m\u001b[0mx\u001b[0m\u001b[1;33m)\u001b[0m\u001b[1;33m)\u001b[0m\u001b[1;33m,\u001b[0m \u001b[0mself\u001b[0m\u001b[1;33m.\u001b[0m\u001b[0mx\u001b[0m\u001b[1;33m]\u001b[0m\u001b[1;33m,\u001b[0m \u001b[0mself\u001b[0m\u001b[1;33m.\u001b[0m\u001b[0my\u001b[0m\u001b[1;33m\u001b[0m\u001b[1;33m\u001b[0m\u001b[0m\n",
      "\u001b[1;31mTypeError\u001b[0m: can't multiply sequence by non-int of type 'float'"
     ]
    },
    {
     "data": {
      "image/png": "[encoded data removed]",
      "text/plain": [
       "<Figure size 432x288 with 1 Axes>"
      ]
     },
     "metadata": {
      "needs_background": "light"
     },
     "output_type": "display_data"
    }
   ],
   "source": [
    "# Reference: https://robert-alvarez.github.io/2018-06-04-diagnostic_plots/\n",
    "\n",
    "# fitted values\n",
    "model_fitted_y = model2.fittedvalues\n",
    "# residuals\n",
    "model_residuals = model2.resid\n",
    "# normalized residuals\n",
    "model_norm_residuals = model2.get_influence().resid_studentized_internal\n",
    "# absolute squared normalized residuals\n",
    "model_norm_residuals_abs_sqrt = np.sqrt(np.abs(model_norm_residuals))\n",
    "# absolute residuals\n",
    "model_abs_resid = np.abs(model_residuals)\n",
    "# leverage, from statsmodels internals\n",
    "model_leverage = model2.get_influence().hat_matrix_diag\n",
    "# cook's distance, from statsmodels internals\n",
    "model_cooks = model2.get_influence().cooks_distance[0]\n",
    "\n",
    "# plot details and formatting\n",
    "plot_lm_1 = plt.figure()\n",
    "plot_lm_1.axes[0] = sns.residplot(\n",
    "    model_fitted_y,\n",
    "    df.columns[16],\n",
    "    data=df,\n",
    "    lowess=True,\n",
    "    scatter_kws={\"alpha\": 0.5},\n",
    "    line_kws={\"color\": \"red\", \"lw\": 1, \"alpha\": 0.8},\n",
    ")\n",
    "\n",
    "plot_lm_1.axes[0].set_title(\"Residuals vs Fitted\")\n",
    "plot_lm_1.axes[0].set_xlabel(\"Fitted values\")\n",
    "plot_lm_1.axes[0].set_ylabel(\"Residuals\")"
   ]
  },
  {
   "cell_type": "code",
   "execution_count": 19,
   "id": "13be613c",
   "metadata": {},
   "outputs": [
    {
     "data": {
      "image/png": "[encoded data removed]",
      "text/plain": [
       "<Figure size 432x288 with 1 Axes>"
      ]
     },
     "metadata": {
      "needs_background": "light"
     },
     "output_type": "display_data"
    }
   ],
   "source": [
    "# Reference: https://robert-alvarez.github.io/2018-06-04-diagnostic_plots/\n",
    "\n",
    "# plot details and formatting\n",
    "plot_lm_3 = plt.figure()\n",
    "plt.scatter(model_fitted_y, model_norm_residuals_abs_sqrt, alpha=0.5)\n",
    "sns.regplot(\n",
    "    model_fitted_y,\n",
    "    model_norm_residuals_abs_sqrt,\n",
    "    scatter=False,\n",
    "    ci=False,\n",
    "    lowess=True,\n",
    "    line_kws={\"color\": \"red\", \"lw\": 1, \"alpha\": 0.8},\n",
    ")\n",
    "plot_lm_3.axes[0].set_title(\"Scale-Location\")\n",
    "plot_lm_3.axes[0].set_xlabel(\"Fitted values\")\n",
    "plot_lm_3.axes[0].set_ylabel(\"$\\sqrt{|Standardized Residuals|}$\")\n",
    "\n",
    "# absolute normalized residuals\n",
    "abs_norm_resid = np.flip(np.argsort(np.abs(model_norm_residuals)), 0)\n",
    "\n",
    "# top 3 normalized residuals\n",
    "abs_norm_resid_top_3 = abs_norm_resid[:3]\n",
    "\n",
    "# annotations\n",
    "abs_sq_norm_resid = np.flip(np.argsort(model_norm_residuals_abs_sqrt), 0)\n",
    "abs_sq_norm_resid_top_3 = abs_sq_norm_resid[:3]\n",
    "for i in abs_norm_resid_top_3:\n",
    "    plot_lm_3.axes[0].annotate(\n",
    "        i, xy=(model_fitted_y[i], model_norm_residuals_abs_sqrt[i])\n",
    "    )"
   ]
  },
  {
   "cell_type": "markdown",
   "id": "4bbc8f76",
   "metadata": {},
   "source": [
    "### Levene's Test"
   ]
  },
  {
   "cell_type": "markdown",
   "id": "156f8725",
   "metadata": {},
   "source": [
    "We will also perform Levene's test check if the ten top years have equal variances in song popularity scores."
   ]
  },
  {
   "cell_type": "code",
   "execution_count": 23,
   "id": "13138901",
   "metadata": {},
   "outputs": [
    {
     "name": "stdout",
     "output_type": "stream",
     "text": [
      "1.6522907826763007 0.09622805208973864\n"
     ]
    }
   ],
   "source": [
    "# for some reason, this didn't translate to the cleaned df so manually converting now\n",
    "df['top_year'] = df['top_year'].astype(str)\n",
    "# reference: https://docs.scipy.org/doc/scipy/reference/generated/scipy.stats.levene.html\n",
    "stat, p = levene(\n",
    "    df[df[\"top_year\"] == \"2010.0\"][\"pop\"],\n",
    "    df[df[\"top_year\"] == \"2011.0\"][\"pop\"],\n",
    "    df[df[\"top_year\"] == \"2012.0\"][\"pop\"],\n",
    "    df[df[\"top_year\"] == \"2013.0\"][\"pop\"],\n",
    "    df[df[\"top_year\"] == \"2014.0\"][\"pop\"],\n",
    "    df[df[\"top_year\"] == \"2015.0\"][\"pop\"],\n",
    "    df[df[\"top_year\"] == \"2016.0\"][\"pop\"],\n",
    "    df[df[\"top_year\"] == \"2017.0\"][\"pop\"],\n",
    "    df[df[\"top_year\"] == \"2018.0\"][\"pop\"],\n",
    "    df[df[\"top_year\"] == \"2019.0\"][\"pop\"], \n",
    ")\n",
    "print(stat, p)"
   ]
  },
  {
   "cell_type": "markdown",
   "id": "9c22fe18",
   "metadata": {},
   "source": [
    "Since the p-value of 0.0962 is greater than  $\\alpha$ = 0.05, we fail to reject the null hypothesis. There is stiatistically significant evidence to suggest that the top years have equal variance.\n",
    "\n",
    "We will also perform Levene's test check if the thirteen top genres have equal variances in song popularity scores."
   ]
  },
  {
   "cell_type": "code",
   "execution_count": 24,
   "id": "26288085",
   "metadata": {
    "scrolled": true
   },
   "outputs": [
    {
     "name": "stdout",
     "output_type": "stream",
     "text": [
      "1.7764492647996268 0.04756946781428622\n"
     ]
    }
   ],
   "source": [
    "# reference: https://docs.scipy.org/doc/scipy/reference/generated/scipy.stats.levene.html\n",
    "stat, p = levene(\n",
    "    df[df[\"top_genre_broad\"] == \"dance pop\"][\"pop\"],\n",
    "    df[df[\"top_genre_broad\"] == \"pop\"][\"pop\"],\n",
    "    df[df[\"top_genre_broad\"] == \"hip hop\"][\"pop\"],\n",
    "    df[df[\"top_genre_broad\"] == \"other\"][\"pop\"],\n",
    "    df[df[\"top_genre_broad\"] == \"rap\"][\"pop\"],\n",
    "    df[df[\"top_genre_broad\"] == \"rock\"][\"pop\"],\n",
    "    df[df[\"top_genre_broad\"] == \"boy band\"][\"pop\"],\n",
    "    df[df[\"top_genre_broad\"] == \"edm\"][\"pop\"],\n",
    "    df[df[\"top_genre_broad\"] == \"r&b\"][\"pop\"],\n",
    "    df[df[\"top_genre_broad\"] == \"dance\"][\"pop\"],\n",
    "    df[df[\"top_genre_broad\"] == \"country\"][\"pop\"],\n",
    "    df[df[\"top_genre_broad\"] == \"indie\"][\"pop\"],\n",
    "    df[df[\"top_genre_broad\"] == \"house\"][\"pop\"],\n",
    ")\n",
    "print(stat, p)"
   ]
  },
  {
   "cell_type": "markdown",
   "id": "a6901d42",
   "metadata": {},
   "source": [
    "Since the p-value of 0.0476 is less than $\\alpha$ = 0.05, we reject the null hypothesis. There is stiatistically significant evidence to suggest that the top genres do not have equal variance.\n",
    "\n",
    "We will also perform Levene's test check if the four artist types have equal variances in song popularity scores."
   ]
  },
  {
   "cell_type": "code",
   "execution_count": 25,
   "id": "2921e3b3",
   "metadata": {
    "scrolled": true
   },
   "outputs": [
    {
     "name": "stdout",
     "output_type": "stream",
     "text": [
      "1.526734955044079 0.20595743890568496\n"
     ]
    }
   ],
   "source": [
    "# reference: https://docs.scipy.org/doc/scipy/reference/generated/scipy.stats.levene.html\n",
    "stat, p = levene(\n",
    "    df[df[\"artist_type\"] == \"Solo\"][\"pop\"],\n",
    "    df[df[\"artist_type\"] == \"Duo\"][\"pop\"],\n",
    "    df[df[\"artist_type\"] == \"Trio\"][\"pop\"],\n",
    "    df[df[\"artist_type\"] == \"Band/Group\"][\"pop\"],\n",
    ")\n",
    "print(stat, p)"
   ]
  },
  {
   "cell_type": "markdown",
   "id": "39d1f93a",
   "metadata": {},
   "source": [
    "Since the p-value of 0.2060 is greater than $\\alpha$ = 0.05, we fail to reject the null hypothesis. There is stiatistically significant evidence to suggest that the artist types have equal variance.\n",
    "\n",
    "After checking the normality and homoscedasticity assumptions, we will proceed with linear regression. We will also assume independence between observations"
   ]
  },
  {
   "cell_type": "markdown",
   "id": "76ab4d7b",
   "metadata": {},
   "source": [
    "# Finding Regression Coefficients and their Standard Errors"
   ]
  },
  {
   "cell_type": "markdown",
   "id": "458b393c",
   "metadata": {},
   "source": [
    "### LU Decomposition"
   ]
  },
  {
   "cell_type": "code",
   "execution_count": null,
   "id": "21bb9761",
   "metadata": {
    "scrolled": true
   },
   "outputs": [],
   "source": [
    "X = np.array(A.drop(columns=[\"pop\"])) # all columns but pop\n",
    "y = np.array(A[\"pop\"]) # pop is response var\n",
    "\n",
    "XtX = np.matrix.transpose(X).dot(X)\n",
    "Xty = np.matrix.transpose(X).dot(y)\n",
    "\n",
    "B_lu = np.linalg.solve(XtX, Xty)\n",
    "B_lu"
   ]
  },
  {
   "cell_type": "code",
   "execution_count": null,
   "id": "4f493cf3",
   "metadata": {},
   "outputs": [],
   "source": [
    "np.linalg.eigvals(XtX)"
   ]
  },
  {
   "cell_type": "markdown",
   "id": "d7a9fc19",
   "metadata": {},
   "source": [
    "For the standard errors, we will first find an estimate of the variance using the formula $\\hat{\\sigma}^2 = (Y - X\\hat{\\beta})'(Y - X\\hat{\\beta})/(n-p)$:"
   ]
  },
  {
   "cell_type": "code",
   "execution_count": null,
   "id": "70ef5582",
   "metadata": {},
   "outputs": [],
   "source": [
    "S = y - X.dot(B_lu)\n",
    "n = X.shape[0] # number of rows of X\n",
    "p = X.shape[1] # number of rows of X\n",
    "\n",
    "sigma2_hat = np.matrix.transpose(S).dot(S) / (n-p)\n",
    "sigma2_hat"
   ]
  },
  {
   "cell_type": "markdown",
   "id": "eec79001",
   "metadata": {},
   "source": [
    "Next we implement the formula $SE[\\hat{\\beta}] = \\sqrt{\\sigma^2 diag((X^TX)^{-1})}$ using `np.linalg.solve()` to find the inverse of $X^TX$:"
   ]
  },
  {
   "cell_type": "code",
   "execution_count": null,
   "id": "2a87105c",
   "metadata": {},
   "outputs": [],
   "source": [
    "a = sigma2_hat * np.diag(np.linalg.inv(XtX))\n",
    "np.sqrt(a)"
   ]
  },
  {
   "cell_type": "markdown",
   "id": "6385201b",
   "metadata": {},
   "source": [
    "### Cholesky Decomposition"
   ]
  },
  {
   "cell_type": "code",
   "execution_count": null,
   "id": "0f1c7d7c",
   "metadata": {},
   "outputs": [],
   "source": [
    "# using cho_factor() to obtain the lower-triangular Cholesky decomposition for X'X; equates to LL'\n",
    "L, Lt = cho_factor(XtX, lower = True)\n",
    "\n",
    "B_chol = cho_solve((L, Lt), Xty)\n",
    "B_chol"
   ]
  },
  {
   "cell_type": "markdown",
   "id": "c993ab66",
   "metadata": {},
   "source": [
    "We will then find the estimate of the variance for the standard errors. "
   ]
  },
  {
   "cell_type": "code",
   "execution_count": null,
   "id": "6bb11e0f",
   "metadata": {
    "scrolled": true
   },
   "outputs": [],
   "source": [
    "aug_mat = np.array(A)\n",
    "AtA = np.matrix.transpose(aug_mat).dot(aug_mat) # to ensure square matrix\n",
    "\n",
    "L, Lt = cho_factor(AtA, lower = True)\n",
    "\n",
    "d = L[L.shape[0]-1, L.shape[1]-1] # d is bottom right element of the lower triangular matrix\n",
    "\n",
    "n = X.shape[0] # number of rows of X\n",
    "p = X.shape[1] # number of cols of X\n",
    "\n",
    "sigma2_hat = d**2/(n - p)\n",
    "sigma2_hat"
   ]
  },
  {
   "cell_type": "code",
   "execution_count": null,
   "id": "7df82b0e",
   "metadata": {},
   "outputs": [],
   "source": [
    "L = np.linalg.cholesky(XtX)\n",
    "a = sigma2_hat * np.diag(scipy.linalg.inv(L @ L.transpose()))\n",
    "np.sqrt(a)"
   ]
  },
  {
   "cell_type": "markdown",
   "id": "15752406",
   "metadata": {},
   "source": [
    "# LASSO Regression"
   ]
  },
  {
   "cell_type": "code",
   "execution_count": null,
   "id": "535c05fd",
   "metadata": {},
   "outputs": [],
   "source": [
    "X = pd.DataFrame(X) # make numpy array into pandas df\n",
    "X.columns = [\"intercept\", \"bpm\", \"nrgy\", \"dnce\", \"dB\", \"live\", \"val\", \n",
    "             \"dur\", \"acous\", \"spch\", \"top year\", \"artist type\", \"top genre broad\"]\n",
    "X = X.drop(columns=[\"intercept\"])\n",
    "\n",
    "# splitting the data 80:20\n",
    "X_train, X_test, y_train, y_test = train_test_split(\n",
    "    X, y, test_size=0.2, random_state=10\n",
    ")\n",
    "\n",
    "# standardizing only the numerical columns\n",
    "list_numerical = X.columns[:9]\n",
    "scaler = preprocessing.StandardScaler().fit(X_train[list_numerical])\n",
    "X_train[list_numerical] = scaler.transform(X_train[list_numerical])\n",
    "X_test[list_numerical] = scaler.transform(X_test[list_numerical])"
   ]
  },
  {
   "cell_type": "code",
   "execution_count": null,
   "id": "8f4565c4",
   "metadata": {
    "scrolled": true
   },
   "outputs": [],
   "source": [
    "# Reference: https://www.kirenz.com/post/2019-08-12-python-lasso-regression-auto/\n",
    "\n",
    "# creating a list of the LASSO coefficients from fitting the model to our dataset\n",
    "coef = []\n",
    "\n",
    "# defining alpha values; constant that multiplies the L1 term, controlling regularization strength\n",
    "alphas = np.arange(0.01, 5, 0.10)\n",
    "\n",
    "# defining the LASSO model\n",
    "lasso = Lasso()\n",
    "\n",
    "# for every alpha, re-fit the model and store the coefficients\n",
    "for a in alphas:\n",
    "    lasso.set_params(alpha=a)\n",
    "    lasso.fit(X_train, y_train)\n",
    "    coef.append(lasso.coef_)\n",
    "\n",
    "# plot the results: alpha values and coefficient values\n",
    "fig = plt.figure()\n",
    "ax = fig.add_subplot()\n",
    "ax.plot(alphas, coef)\n",
    "ax.set_xlabel(\"Alpha (Regularization Parameter)\")\n",
    "ax.set_ylabel(\"LASSO Coefficients\")\n",
    "ax.set_title(\"Alpha vs. LASSO Coefficients\")"
   ]
  },
  {
   "cell_type": "markdown",
   "id": "484d9682",
   "metadata": {},
   "source": [
    "We observe that initially, the model contains high magnitudes of predictor coefficients. As $\\alpha$ (regularization parameter) values increase, the coefficient estimates converge to approximately zero."
   ]
  },
  {
   "cell_type": "markdown",
   "id": "6453116c",
   "metadata": {},
   "source": [
    "### K Fold Cross Validation"
   ]
  },
  {
   "cell_type": "code",
   "execution_count": null,
   "id": "cce6712c",
   "metadata": {},
   "outputs": [],
   "source": [
    "model = LassoCV(cv=10, random_state=1)\n",
    "model.fit(X_train, y_train)\n",
    "\n",
    "# best value of alpha after cross validation\n",
    "optimal = model.alpha_\n",
    "display(optimal)"
   ]
  },
  {
   "cell_type": "code",
   "execution_count": null,
   "id": "6af07168",
   "metadata": {},
   "outputs": [],
   "source": [
    "# building the LASSO model with the optimal lambda value\n",
    "lasso_best = Lasso(alpha=optimal)\n",
    "lasso_best.fit(X_train, y_train)"
   ]
  },
  {
   "cell_type": "code",
   "execution_count": null,
   "id": "5b316d01",
   "metadata": {},
   "outputs": [],
   "source": [
    "print('R squared training set:', round(lasso_best.score(X_train, y_train)*100, 2))\n",
    "print('R squared test set:', round(lasso_best.score(X_test, y_test)*100, 2))\n",
    "print('MSE:', mean_squared_error(y_test, lasso_best.predict(X_test)))"
   ]
  },
  {
   "cell_type": "code",
   "execution_count": null,
   "id": "87d03015",
   "metadata": {},
   "outputs": [],
   "source": [
    "# organizing the predictors and their LASSO coefficients in a table\n",
    "coefs = np.array(lasso_best.coef_)\n",
    "comp = pd.DataFrame((X_test.columns, coefs)).T\n",
    "comp = comp.rename({0: \"Predictor\", 1: \"Coef\"}, axis=1)\n",
    "display(comp)"
   ]
  },
  {
   "cell_type": "code",
   "execution_count": null,
   "id": "80240771",
   "metadata": {},
   "outputs": [],
   "source": [
    "# graph of residuals vs. fitted values\n",
    "new_pred = lasso_best.predict(X_test)\n",
    "new_resid = y_test - new_pred\n",
    "display(px.scatter(x=new_pred, y=new_resid, labels={\"x\": \"Predicted\", \"y\": \"Residuals\"}))"
   ]
  },
  {
   "cell_type": "markdown",
   "id": "5ae80bfa",
   "metadata": {},
   "source": [
    "The data points are randomly and evenly scattered about the horizontal line y = 0, so the linearity assumption holds pretty well. Also, the residuals roughly form a horizontal band around the line, indicating that the equal variance assumption holds as well."
   ]
  },
  {
   "cell_type": "code",
   "execution_count": null,
   "id": "154b86f4",
   "metadata": {},
   "outputs": [],
   "source": [
    "# removing the predictor coefficients that are zero\n",
    "comp_selected = comp[comp['Coef'] != 0]\n",
    "selected_features = comp_selected.Predictor.unique()"
   ]
  },
  {
   "cell_type": "code",
   "execution_count": null,
   "id": "ffbdd1c9",
   "metadata": {
    "scrolled": true
   },
   "outputs": [],
   "source": [
    "y = pd.DataFrame(y) # numpy array to pandas df\n",
    "y.columns = [\"pop\"]\n",
    "LASSO_df = pd.concat([X[selected_features], y], axis=1)\n",
    "LASSO_df.head()"
   ]
  },
  {
   "cell_type": "markdown",
   "id": "f7253f54",
   "metadata": {},
   "source": [
    "So the variables selected are: nrgy, live, val, dur, acous, spch, top year, artist type, top genre."
   ]
  },
  {
   "cell_type": "code",
   "execution_count": null,
   "id": "3572bfe4",
   "metadata": {
    "scrolled": true
   },
   "outputs": [],
   "source": [
    "X = np.array(LASSO_df.drop(columns=[\"pop\"])) # all columns but pop\n",
    "y = np.array(LASSO_df[\"pop\"]) # pop is response var\n",
    "\n",
    "XtX = np.matrix.transpose(X).dot(X)\n",
    "Xty = np.matrix.transpose(X).dot(y)"
   ]
  },
  {
   "cell_type": "code",
   "execution_count": null,
   "id": "41b99b49",
   "metadata": {},
   "outputs": [],
   "source": [
    "B_lu = np.linalg.solve(XtX, Xty)\n",
    "B_lu"
   ]
  },
  {
   "cell_type": "code",
   "execution_count": null,
   "id": "8764a2d9",
   "metadata": {},
   "outputs": [],
   "source": [
    "S = y - X.dot(B_lu)\n",
    "n = X.shape[0] # number of rows of X\n",
    "p = X.shape[1] # number of rows of X\n",
    "\n",
    "sigma2_hat = np.matrix.transpose(S).dot(S) / (n-p)\n",
    "sigma2_hat"
   ]
  },
  {
   "cell_type": "code",
   "execution_count": null,
   "id": "17d55e62",
   "metadata": {
    "scrolled": true
   },
   "outputs": [],
   "source": [
    "a = sigma2_hat * np.diag(np.linalg.inv(XtX))\n",
    "np.sqrt(a)"
   ]
  },
  {
   "cell_type": "code",
   "execution_count": null,
   "id": "b3a877b4",
   "metadata": {
    "scrolled": true
   },
   "outputs": [],
   "source": [
    "# using cho_factor() to obtain the lower-triangular Cholesky decomposition for X'X; equates to LL'\n",
    "L, Lt = cho_factor(XtX, lower = True)\n",
    "\n",
    "B_chol = cho_solve((L, Lt), Xty)\n",
    "B_chol"
   ]
  },
  {
   "cell_type": "code",
   "execution_count": null,
   "id": "2d594067",
   "metadata": {},
   "outputs": [],
   "source": [
    "aug_mat = np.array(A)\n",
    "AtA = np.matrix.transpose(aug_mat).dot(aug_mat) # to ensure square matrix\n",
    "\n",
    "L, Lt = cho_factor(AtA, lower = True)\n",
    "\n",
    "d = L[L.shape[0]-1, L.shape[1]-1] # d is bottom right element of the lower triangular matrix\n",
    "\n",
    "n = X.shape[0] # number of rows of X\n",
    "p = X.shape[1] # number of cols of X\n",
    "\n",
    "sigma2_hat = d**2/(n - p)\n",
    "sigma2_hat"
   ]
  },
  {
   "cell_type": "code",
   "execution_count": null,
   "id": "baab0b0f",
   "metadata": {},
   "outputs": [],
   "source": [
    "L = np.linalg.cholesky(XtX)\n",
    "a = sigma2_hat * np.diag(scipy.linalg.inv(L @ L.transpose()))\n",
    "np.sqrt(a)"
   ]
  },
  {
   "cell_type": "markdown",
   "id": "bde6ad44",
   "metadata": {},
   "source": [
    "# Simulation Study"
   ]
  },
  {
   "cell_type": "code",
   "execution_count": null,
   "id": "bb68e33f",
   "metadata": {},
   "outputs": [],
   "source": [
    "#num of observations\n",
    "#n = 1000\n",
    "# num of features\n",
    "#p = 9\n",
    "# determine the design matrix\n",
    "#random.seed(108)\n",
    "\n",
    "#X = np.array(np.random.normal(0, 1, n*p))\n",
    "#X = X.reshape(n,p)\n",
    "\n",
    "#beta = B_lu # beta coefficients from above\n",
    "#sigma = 10\n",
    "\n",
    "#y = X.dot(beta) + np.random.normal(0, sigma, n)"
   ]
  },
  {
   "cell_type": "code",
   "execution_count": null,
   "id": "2abbc047",
   "metadata": {},
   "outputs": [],
   "source": [
    "random.seed(108)\n",
    "\n",
    "n = 1000\n",
    "p = 13\n",
    "\n",
    "cols = A.columns.drop(\"pop\")\n",
    "X = np.array(\n",
    "    [np.random.choice(A[x], 1000) for x in cols]\n",
    ").T\n",
    "\n",
    "X\n",
    "X = X.reshape(n,p)\n",
    "beta = B_lu # beta coefficients from above\n",
    "sigma = 10\n",
    "\n",
    "y = X.dot(beta) + np.random.normal(0, sigma, n)"
   ]
  },
  {
   "cell_type": "code",
   "execution_count": null,
   "id": "6a26b1bb",
   "metadata": {},
   "outputs": [],
   "source": [
    "XtX = np.matrix.transpose(X).dot(X)\n",
    "Xty = np.matrix.transpose(X).dot(y)\n",
    "\n",
    "beta_est = np.linalg.solve(XtX, Xty)\n",
    "\n",
    "S = y - X.dot(beta_est)\n",
    "n = X.shape[0] # number of rows of X\n",
    "p = X.shape[1] # number of rows of X\n",
    "\n",
    "var = np.matrix.transpose(S).dot(S) / (n-p)\n",
    "sigma_est = np.sqrt(var)"
   ]
  },
  {
   "cell_type": "code",
   "execution_count": null,
   "id": "b839d37b",
   "metadata": {},
   "outputs": [],
   "source": [
    "pd.DataFrame(data={\"True Beta\": beta, \"Beta Est\": beta_est})"
   ]
  },
  {
   "cell_type": "code",
   "execution_count": null,
   "id": "72f2af27",
   "metadata": {
    "scrolled": true
   },
   "outputs": [],
   "source": [
    "print(\"True Sigma: \" + str(sigma) + \"\\nEst sigma: \"+str(sigma_est))"
   ]
  },
  {
   "cell_type": "code",
   "execution_count": null,
   "id": "e23af8de",
   "metadata": {},
   "outputs": [],
   "source": [
    "#num_datasets = 100\n",
    "#y_bar = X.dot(beta)\n",
    "#Y = [y_bar+np.random.normal(0, sigma, n) for i in range(num_datasets)]\n",
    "#Y = np.concatenate(Y, axis=0 )\n",
    "#Y = Y.reshape(n, 100)"
   ]
  },
  {
   "cell_type": "code",
   "execution_count": null,
   "id": "5c5a166b",
   "metadata": {
    "scrolled": true
   },
   "outputs": [],
   "source": [
    "num_datasets = 100\n",
    "\n",
    "#cols = A.columns.drop(\"pop\")\n",
    "#print(cols)\n",
    "#X_old = np.array([np.random.choice(A[x], 1000) for x in cols]).T\n",
    "\n",
    "X = np.array([np.random.choice(A[\"bpm\"], 1000)])\n",
    "fin_mat = X\n",
    "\n",
    "for i in range(num_datasets):\n",
    "    cols = A.columns.drop([\"bpm\", \"pop\"])\n",
    "    X = np.array([np.random.choice(A[x], 1000) for x in cols])\n",
    "    fin_mat = np.vstack([fin_mat, X])\n",
    "X = fin_mat.T\n",
    "print(X.shape)\n",
    "\n",
    "y = np.array([np.random.choice(A[\"pop\"], 1000)]).T"
   ]
  },
  {
   "cell_type": "code",
   "execution_count": null,
   "id": "2d9583ea",
   "metadata": {},
   "outputs": [],
   "source": [
    "XtX = np.matrix.transpose(X).dot(X)\n",
    "Xty = np.matrix.transpose(X).dot(y)\n",
    "Beta =  np.linalg.solve(XtX, Xty)\n",
    "\n",
    "\n",
    "n = X.shape[0] # number of rows of X\n",
    "p = X.shape[1] # number of cols of X\n",
    "S = (y - X @ Beta)**2\n",
    "Sigma = np.sqrt(S.sum(axis = 0)/(n-p))\n",
    "Sigma"
   ]
  },
  {
   "cell_type": "code",
   "execution_count": null,
   "id": "82f94838",
   "metadata": {
    "scrolled": true
   },
   "outputs": [],
   "source": [
    "beta_df = pd.DataFrame(Beta)\n",
    "beta_df.head(20)\n",
    "# source: https://stackoverflow.com/questions/50529022/pandas-melt-unmelt-preserve-index"
   ]
  },
  {
   "cell_type": "code",
   "execution_count": null,
   "id": "bf82aaf2",
   "metadata": {
    "scrolled": true
   },
   "outputs": [],
   "source": [
    "beta_df2 = pd.melt(beta_df.reset_index(), id_vars=\"index\").drop(\"variable\", axis = 1)\n",
    "beta_df2.head(20)"
   ]
  },
  {
   "cell_type": "code",
   "execution_count": null,
   "id": "26a30158",
   "metadata": {
    "scrolled": true
   },
   "outputs": [],
   "source": [
    "(\n",
    "ggplot(beta_df2) \n",
    "    + geom_histogram(aes(x=\"value\"), bins = 10) \n",
    "    + facet_wrap(\"index\", scales = \"free_x\")\n",
    "    + geom_vline(xintercept = B_lu.mean(), colour = \"blue\")\n",
    "    + geom_vline(xintercept = beta_df2.value.mean(), color = \"red\")\n",
    ")"
   ]
  },
  {
   "cell_type": "code",
   "execution_count": null,
   "id": "015e0752",
   "metadata": {
    "scrolled": true
   },
   "outputs": [],
   "source": [
    "(\n",
    "ggplot() \n",
    "    + geom_histogram(aes(Sigma), bins = 15) \n",
    "    + geom_vline(xintercept = 10, color = 'blue')\n",
    "    + geom_vline(xintercept = Sigma.mean(), color = 'red')\n",
    ")"
   ]
  },
  {
   "cell_type": "code",
   "execution_count": null,
   "id": "1663d70e",
   "metadata": {},
   "outputs": [],
   "source": []
  }
 ],
 "metadata": {
  "kernelspec": {
   "display_name": "Python 3 (ipykernel)",
   "language": "python",
   "name": "python3"
  },
  "language_info": {
   "codemirror_mode": {
    "name": "ipython",
    "version": 3
   },
   "file_extension": ".py",
   "mimetype": "text/x-python",
   "name": "python",
   "nbconvert_exporter": "python",
   "pygments_lexer": "ipython3",
   "version": "3.9.7"
  }
 },
 "nbformat": 4,
 "nbformat_minor": 5
}
