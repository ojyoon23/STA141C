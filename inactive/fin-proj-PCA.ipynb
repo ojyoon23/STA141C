{
 "cells": [
  {
   "cell_type": "code",
   "execution_count": 1,
   "id": "2bfb9b91",
   "metadata": {},
   "outputs": [],
   "source": [
    "import pandas as pd\n",
    "import numpy as np\n",
    "import matplotlib as plt\n",
    "import seaborn as sns # for heatmap"
   ]
  },
  {
   "cell_type": "markdown",
   "id": "71bf8a94",
   "metadata": {},
   "source": [
    "### Read in the data\n",
    "\n",
    "NOTE: last three rows are blank so we should drop/delete them"
   ]
  },
  {
   "cell_type": "code",
   "execution_count": 2,
   "id": "1c14c793",
   "metadata": {
    "scrolled": true
   },
   "outputs": [
    {
     "data": {
      "text/html": [
       "<div>\n",
       "<style scoped>\n",
       "    .dataframe tbody tr th:only-of-type {\n",
       "        vertical-align: middle;\n",
       "    }\n",
       "\n",
       "    .dataframe tbody tr th {\n",
       "        vertical-align: top;\n",
       "    }\n",
       "\n",
       "    .dataframe thead th {\n",
       "        text-align: right;\n",
       "    }\n",
       "</style>\n",
       "<table border=\"1\" class=\"dataframe\">\n",
       "  <thead>\n",
       "    <tr style=\"text-align: right;\">\n",
       "      <th></th>\n",
       "      <th>title</th>\n",
       "      <th>artist</th>\n",
       "      <th>top genre</th>\n",
       "      <th>year released</th>\n",
       "      <th>added</th>\n",
       "      <th>bpm</th>\n",
       "      <th>nrgy</th>\n",
       "      <th>dnce</th>\n",
       "      <th>dB</th>\n",
       "      <th>live</th>\n",
       "      <th>val</th>\n",
       "      <th>dur</th>\n",
       "      <th>acous</th>\n",
       "      <th>spch</th>\n",
       "      <th>pop</th>\n",
       "      <th>top year</th>\n",
       "      <th>artist type</th>\n",
       "    </tr>\n",
       "  </thead>\n",
       "  <tbody>\n",
       "    <tr>\n",
       "      <th>0</th>\n",
       "      <td>STARSTRUKK (feat. Katy Perry)</td>\n",
       "      <td>3OH!3</td>\n",
       "      <td>dance pop</td>\n",
       "      <td>2009.0</td>\n",
       "      <td>2022‑02‑17</td>\n",
       "      <td>140.0</td>\n",
       "      <td>81.0</td>\n",
       "      <td>61.0</td>\n",
       "      <td>-6.0</td>\n",
       "      <td>23.0</td>\n",
       "      <td>23.0</td>\n",
       "      <td>203.0</td>\n",
       "      <td>0.0</td>\n",
       "      <td>6.0</td>\n",
       "      <td>70.0</td>\n",
       "      <td>2010.0</td>\n",
       "      <td>Duo</td>\n",
       "    </tr>\n",
       "    <tr>\n",
       "      <th>1</th>\n",
       "      <td>My First Kiss (feat. Ke$ha)</td>\n",
       "      <td>3OH!3</td>\n",
       "      <td>dance pop</td>\n",
       "      <td>2010.0</td>\n",
       "      <td>2022‑02‑17</td>\n",
       "      <td>138.0</td>\n",
       "      <td>89.0</td>\n",
       "      <td>68.0</td>\n",
       "      <td>-4.0</td>\n",
       "      <td>36.0</td>\n",
       "      <td>83.0</td>\n",
       "      <td>192.0</td>\n",
       "      <td>1.0</td>\n",
       "      <td>8.0</td>\n",
       "      <td>68.0</td>\n",
       "      <td>2010.0</td>\n",
       "      <td>Duo</td>\n",
       "    </tr>\n",
       "    <tr>\n",
       "      <th>2</th>\n",
       "      <td>I Need A Dollar</td>\n",
       "      <td>Aloe Blacc</td>\n",
       "      <td>pop soul</td>\n",
       "      <td>2010.0</td>\n",
       "      <td>2022‑02‑17</td>\n",
       "      <td>95.0</td>\n",
       "      <td>48.0</td>\n",
       "      <td>84.0</td>\n",
       "      <td>-7.0</td>\n",
       "      <td>9.0</td>\n",
       "      <td>96.0</td>\n",
       "      <td>243.0</td>\n",
       "      <td>20.0</td>\n",
       "      <td>3.0</td>\n",
       "      <td>72.0</td>\n",
       "      <td>2010.0</td>\n",
       "      <td>Solo</td>\n",
       "    </tr>\n",
       "    <tr>\n",
       "      <th>3</th>\n",
       "      <td>Airplanes (feat. Hayley Williams of Paramore)</td>\n",
       "      <td>B.o.B</td>\n",
       "      <td>atl hip hop</td>\n",
       "      <td>2010.0</td>\n",
       "      <td>2022‑02‑17</td>\n",
       "      <td>93.0</td>\n",
       "      <td>87.0</td>\n",
       "      <td>66.0</td>\n",
       "      <td>-4.0</td>\n",
       "      <td>4.0</td>\n",
       "      <td>38.0</td>\n",
       "      <td>180.0</td>\n",
       "      <td>11.0</td>\n",
       "      <td>12.0</td>\n",
       "      <td>80.0</td>\n",
       "      <td>2010.0</td>\n",
       "      <td>Solo</td>\n",
       "    </tr>\n",
       "    <tr>\n",
       "      <th>4</th>\n",
       "      <td>Nothin' on You (feat. Bruno Mars)</td>\n",
       "      <td>B.o.B</td>\n",
       "      <td>atl hip hop</td>\n",
       "      <td>2010.0</td>\n",
       "      <td>2022‑02‑17</td>\n",
       "      <td>104.0</td>\n",
       "      <td>85.0</td>\n",
       "      <td>69.0</td>\n",
       "      <td>-6.0</td>\n",
       "      <td>9.0</td>\n",
       "      <td>74.0</td>\n",
       "      <td>268.0</td>\n",
       "      <td>39.0</td>\n",
       "      <td>5.0</td>\n",
       "      <td>79.0</td>\n",
       "      <td>2010.0</td>\n",
       "      <td>Solo</td>\n",
       "    </tr>\n",
       "    <tr>\n",
       "      <th>5</th>\n",
       "      <td>Magic (feat. Rivers Cuomo)</td>\n",
       "      <td>B.o.B</td>\n",
       "      <td>atl hip hop</td>\n",
       "      <td>2010.0</td>\n",
       "      <td>2022‑02‑17</td>\n",
       "      <td>82.0</td>\n",
       "      <td>93.0</td>\n",
       "      <td>55.0</td>\n",
       "      <td>-4.0</td>\n",
       "      <td>35.0</td>\n",
       "      <td>79.0</td>\n",
       "      <td>196.0</td>\n",
       "      <td>1.0</td>\n",
       "      <td>34.0</td>\n",
       "      <td>71.0</td>\n",
       "      <td>2010.0</td>\n",
       "      <td>Solo</td>\n",
       "    </tr>\n",
       "    <tr>\n",
       "      <th>6</th>\n",
       "      <td>The Time (Dirty Bit)</td>\n",
       "      <td>Black Eyed Peas</td>\n",
       "      <td>dance pop</td>\n",
       "      <td>2010.0</td>\n",
       "      <td>2022‑02‑17</td>\n",
       "      <td>128.0</td>\n",
       "      <td>81.0</td>\n",
       "      <td>82.0</td>\n",
       "      <td>-8.0</td>\n",
       "      <td>60.0</td>\n",
       "      <td>44.0</td>\n",
       "      <td>308.0</td>\n",
       "      <td>7.0</td>\n",
       "      <td>7.0</td>\n",
       "      <td>75.0</td>\n",
       "      <td>2010.0</td>\n",
       "      <td>Band/Group</td>\n",
       "    </tr>\n",
       "    <tr>\n",
       "      <th>7</th>\n",
       "      <td>Imma Be</td>\n",
       "      <td>Black Eyed Peas</td>\n",
       "      <td>dance pop</td>\n",
       "      <td>2009.0</td>\n",
       "      <td>2022‑02‑17</td>\n",
       "      <td>92.0</td>\n",
       "      <td>52.0</td>\n",
       "      <td>60.0</td>\n",
       "      <td>-7.0</td>\n",
       "      <td>31.0</td>\n",
       "      <td>41.0</td>\n",
       "      <td>258.0</td>\n",
       "      <td>18.0</td>\n",
       "      <td>37.0</td>\n",
       "      <td>71.0</td>\n",
       "      <td>2010.0</td>\n",
       "      <td>Band/Group</td>\n",
       "    </tr>\n",
       "    <tr>\n",
       "      <th>8</th>\n",
       "      <td>Talking to the Moon</td>\n",
       "      <td>Bruno Mars</td>\n",
       "      <td>dance pop</td>\n",
       "      <td>2010.0</td>\n",
       "      <td>2022‑02‑17</td>\n",
       "      <td>146.0</td>\n",
       "      <td>59.0</td>\n",
       "      <td>50.0</td>\n",
       "      <td>-5.0</td>\n",
       "      <td>11.0</td>\n",
       "      <td>8.0</td>\n",
       "      <td>218.0</td>\n",
       "      <td>51.0</td>\n",
       "      <td>3.0</td>\n",
       "      <td>87.0</td>\n",
       "      <td>2010.0</td>\n",
       "      <td>Solo</td>\n",
       "    </tr>\n",
       "    <tr>\n",
       "      <th>9</th>\n",
       "      <td>Just the Way You Are</td>\n",
       "      <td>Bruno Mars</td>\n",
       "      <td>dance pop</td>\n",
       "      <td>2010.0</td>\n",
       "      <td>2022‑02‑17</td>\n",
       "      <td>109.0</td>\n",
       "      <td>84.0</td>\n",
       "      <td>64.0</td>\n",
       "      <td>-5.0</td>\n",
       "      <td>6.0</td>\n",
       "      <td>42.0</td>\n",
       "      <td>221.0</td>\n",
       "      <td>1.0</td>\n",
       "      <td>4.0</td>\n",
       "      <td>86.0</td>\n",
       "      <td>2010.0</td>\n",
       "      <td>Solo</td>\n",
       "    </tr>\n",
       "  </tbody>\n",
       "</table>\n",
       "</div>"
      ],
      "text/plain": [
       "                                           title           artist  \\\n",
       "0                  STARSTRUKK (feat. Katy Perry)            3OH!3   \n",
       "1                    My First Kiss (feat. Ke$ha)            3OH!3   \n",
       "2                                I Need A Dollar       Aloe Blacc   \n",
       "3  Airplanes (feat. Hayley Williams of Paramore)            B.o.B   \n",
       "4              Nothin' on You (feat. Bruno Mars)            B.o.B   \n",
       "5                     Magic (feat. Rivers Cuomo)            B.o.B   \n",
       "6                           The Time (Dirty Bit)  Black Eyed Peas   \n",
       "7                                        Imma Be  Black Eyed Peas   \n",
       "8                            Talking to the Moon       Bruno Mars   \n",
       "9                           Just the Way You Are       Bruno Mars   \n",
       "\n",
       "     top genre  year released       added    bpm  nrgy  dnce   dB  live   val  \\\n",
       "0    dance pop         2009.0  2022‑02‑17  140.0  81.0  61.0 -6.0  23.0  23.0   \n",
       "1    dance pop         2010.0  2022‑02‑17  138.0  89.0  68.0 -4.0  36.0  83.0   \n",
       "2     pop soul         2010.0  2022‑02‑17   95.0  48.0  84.0 -7.0   9.0  96.0   \n",
       "3  atl hip hop         2010.0  2022‑02‑17   93.0  87.0  66.0 -4.0   4.0  38.0   \n",
       "4  atl hip hop         2010.0  2022‑02‑17  104.0  85.0  69.0 -6.0   9.0  74.0   \n",
       "5  atl hip hop         2010.0  2022‑02‑17   82.0  93.0  55.0 -4.0  35.0  79.0   \n",
       "6    dance pop         2010.0  2022‑02‑17  128.0  81.0  82.0 -8.0  60.0  44.0   \n",
       "7    dance pop         2009.0  2022‑02‑17   92.0  52.0  60.0 -7.0  31.0  41.0   \n",
       "8    dance pop         2010.0  2022‑02‑17  146.0  59.0  50.0 -5.0  11.0   8.0   \n",
       "9    dance pop         2010.0  2022‑02‑17  109.0  84.0  64.0 -5.0   6.0  42.0   \n",
       "\n",
       "     dur  acous  spch   pop  top year artist type  \n",
       "0  203.0    0.0   6.0  70.0    2010.0         Duo  \n",
       "1  192.0    1.0   8.0  68.0    2010.0         Duo  \n",
       "2  243.0   20.0   3.0  72.0    2010.0        Solo  \n",
       "3  180.0   11.0  12.0  80.0    2010.0        Solo  \n",
       "4  268.0   39.0   5.0  79.0    2010.0        Solo  \n",
       "5  196.0    1.0  34.0  71.0    2010.0        Solo  \n",
       "6  308.0    7.0   7.0  75.0    2010.0  Band/Group  \n",
       "7  258.0   18.0  37.0  71.0    2010.0  Band/Group  \n",
       "8  218.0   51.0   3.0  87.0    2010.0        Solo  \n",
       "9  221.0    1.0   4.0  86.0    2010.0        Solo  "
      ]
     },
     "execution_count": 2,
     "metadata": {},
     "output_type": "execute_result"
    }
   ],
   "source": [
    "data = pd.read_csv(\"./data/SpotifyData.csv\")\n",
    "df = pd.DataFrame(data)\n",
    "df = df.iloc[:-3, :] # last 3 rows are all NAs\n",
    "df.head(10)"
   ]
  },
  {
   "cell_type": "markdown",
   "id": "d3a7cf37",
   "metadata": {},
   "source": [
    "### Looking at \"pop\" (potential response variable)"
   ]
  },
  {
   "cell_type": "code",
   "execution_count": 3,
   "id": "9a6d522d",
   "metadata": {},
   "outputs": [
    {
     "name": "stdout",
     "output_type": "stream",
     "text": [
      "95.0\n",
      "35.0\n"
     ]
    }
   ],
   "source": [
    "print(df[\"pop\"].max())\n",
    "print(df[\"pop\"].min())"
   ]
  },
  {
   "cell_type": "code",
   "execution_count": 4,
   "id": "6edcb680",
   "metadata": {},
   "outputs": [
    {
     "data": {
      "text/html": [
       "<div>\n",
       "<style scoped>\n",
       "    .dataframe tbody tr th:only-of-type {\n",
       "        vertical-align: middle;\n",
       "    }\n",
       "\n",
       "    .dataframe tbody tr th {\n",
       "        vertical-align: top;\n",
       "    }\n",
       "\n",
       "    .dataframe thead th {\n",
       "        text-align: right;\n",
       "    }\n",
       "</style>\n",
       "<table border=\"1\" class=\"dataframe\">\n",
       "  <thead>\n",
       "    <tr style=\"text-align: right;\">\n",
       "      <th></th>\n",
       "      <th>title</th>\n",
       "      <th>artist</th>\n",
       "      <th>top genre</th>\n",
       "      <th>year released</th>\n",
       "      <th>added</th>\n",
       "      <th>bpm</th>\n",
       "      <th>nrgy</th>\n",
       "      <th>dnce</th>\n",
       "      <th>dB</th>\n",
       "      <th>live</th>\n",
       "      <th>val</th>\n",
       "      <th>dur</th>\n",
       "      <th>acous</th>\n",
       "      <th>spch</th>\n",
       "      <th>pop</th>\n",
       "      <th>top year</th>\n",
       "      <th>artist type</th>\n",
       "    </tr>\n",
       "  </thead>\n",
       "  <tbody>\n",
       "    <tr>\n",
       "      <th>392</th>\n",
       "      <td>Sweater Weather</td>\n",
       "      <td>The Neighbourhood</td>\n",
       "      <td>modern alternative rock</td>\n",
       "      <td>2013.0</td>\n",
       "      <td>2020‑06‑11</td>\n",
       "      <td>124.0</td>\n",
       "      <td>81.0</td>\n",
       "      <td>61.0</td>\n",
       "      <td>-3.0</td>\n",
       "      <td>10.0</td>\n",
       "      <td>40.0</td>\n",
       "      <td>240.0</td>\n",
       "      <td>5.0</td>\n",
       "      <td>3.0</td>\n",
       "      <td>95.0</td>\n",
       "      <td>2013.0</td>\n",
       "      <td>Band/Group</td>\n",
       "    </tr>\n",
       "  </tbody>\n",
       "</table>\n",
       "</div>"
      ],
      "text/plain": [
       "               title             artist                top genre  \\\n",
       "392  Sweater Weather  The Neighbourhood  modern alternative rock   \n",
       "\n",
       "     year released       added    bpm  nrgy  dnce   dB  live   val    dur  \\\n",
       "392         2013.0  2020‑06‑11  124.0  81.0  61.0 -3.0  10.0  40.0  240.0   \n",
       "\n",
       "     acous  spch   pop  top year artist type  \n",
       "392    5.0   3.0  95.0    2013.0  Band/Group  "
      ]
     },
     "execution_count": 4,
     "metadata": {},
     "output_type": "execute_result"
    }
   ],
   "source": [
    "df[df[\"pop\"] == 95.0]"
   ]
  },
  {
   "cell_type": "code",
   "execution_count": 5,
   "id": "eed419aa",
   "metadata": {},
   "outputs": [
    {
     "data": {
      "text/html": [
       "<div>\n",
       "<style scoped>\n",
       "    .dataframe tbody tr th:only-of-type {\n",
       "        vertical-align: middle;\n",
       "    }\n",
       "\n",
       "    .dataframe tbody tr th {\n",
       "        vertical-align: top;\n",
       "    }\n",
       "\n",
       "    .dataframe thead th {\n",
       "        text-align: right;\n",
       "    }\n",
       "</style>\n",
       "<table border=\"1\" class=\"dataframe\">\n",
       "  <thead>\n",
       "    <tr style=\"text-align: right;\">\n",
       "      <th></th>\n",
       "      <th>title</th>\n",
       "      <th>artist</th>\n",
       "      <th>top genre</th>\n",
       "      <th>year released</th>\n",
       "      <th>added</th>\n",
       "      <th>bpm</th>\n",
       "      <th>nrgy</th>\n",
       "      <th>dnce</th>\n",
       "      <th>dB</th>\n",
       "      <th>live</th>\n",
       "      <th>val</th>\n",
       "      <th>dur</th>\n",
       "      <th>acous</th>\n",
       "      <th>spch</th>\n",
       "      <th>pop</th>\n",
       "      <th>top year</th>\n",
       "      <th>artist type</th>\n",
       "    </tr>\n",
       "  </thead>\n",
       "  <tbody>\n",
       "    <tr>\n",
       "      <th>182</th>\n",
       "      <td>Read All About It</td>\n",
       "      <td>Professor Green</td>\n",
       "      <td>grime</td>\n",
       "      <td>2021.0</td>\n",
       "      <td>2020‑06‑16</td>\n",
       "      <td>101.0</td>\n",
       "      <td>75.0</td>\n",
       "      <td>66.0</td>\n",
       "      <td>-6.0</td>\n",
       "      <td>22.0</td>\n",
       "      <td>45.0</td>\n",
       "      <td>236.0</td>\n",
       "      <td>34.0</td>\n",
       "      <td>4.0</td>\n",
       "      <td>35.0</td>\n",
       "      <td>2011.0</td>\n",
       "      <td>Solo</td>\n",
       "    </tr>\n",
       "  </tbody>\n",
       "</table>\n",
       "</div>"
      ],
      "text/plain": [
       "                 title           artist top genre  year released       added  \\\n",
       "182  Read All About It  Professor Green     grime         2021.0  2020‑06‑16   \n",
       "\n",
       "       bpm  nrgy  dnce   dB  live   val    dur  acous  spch   pop  top year  \\\n",
       "182  101.0  75.0  66.0 -6.0  22.0  45.0  236.0   34.0   4.0  35.0    2011.0   \n",
       "\n",
       "    artist type  \n",
       "182        Solo  "
      ]
     },
     "execution_count": 5,
     "metadata": {},
     "output_type": "execute_result"
    }
   ],
   "source": [
    "df[df[\"pop\"] == 35.0]"
   ]
  },
  {
   "cell_type": "markdown",
   "id": "7d46f895",
   "metadata": {},
   "source": [
    "### Most common \"Top Genre\" values\n",
    "\n",
    "We will look at the top 10 most common `top genre` values and the number of unique genres:"
   ]
  },
  {
   "cell_type": "code",
   "execution_count": 6,
   "id": "f4151651",
   "metadata": {},
   "outputs": [
    {
     "data": {
      "text/plain": [
       "dance pop            361\n",
       "pop                   57\n",
       "atl hip hop           39\n",
       "art pop               37\n",
       "hip hop               21\n",
       "boy band              21\n",
       "canadian hip hop      18\n",
       "edm                   17\n",
       "folk-pop              15\n",
       "conscious hip hop     14\n",
       "Name: top genre, dtype: int64"
      ]
     },
     "execution_count": 6,
     "metadata": {},
     "output_type": "execute_result"
    }
   ],
   "source": [
    "df[\"top genre\"].value_counts()[0:10]"
   ]
  },
  {
   "cell_type": "code",
   "execution_count": 7,
   "id": "65e90db6",
   "metadata": {},
   "outputs": [
    {
     "data": {
      "text/plain": [
       "132"
      ]
     },
     "execution_count": 7,
     "metadata": {},
     "output_type": "execute_result"
    }
   ],
   "source": [
    "len(df[\"top genre\"].unique()) # number of unique genres"
   ]
  },
  {
   "cell_type": "markdown",
   "id": "cf3bd20a",
   "metadata": {},
   "source": [
    "Dance pop is the most common by far compared to the other genres. There are also 132 unique genres so many likely have only a handful or fewer songs. This suggests we will need to consolidate genres into broader categories since the labels are so granular."
   ]
  },
  {
   "cell_type": "markdown",
   "id": "daa42aec",
   "metadata": {},
   "source": [
    "### Correlation b/w variables"
   ]
  },
  {
   "cell_type": "markdown",
   "id": "0e26e792",
   "metadata": {},
   "source": [
    "To find highly correlated variables, we create a heatmap:"
   ]
  },
  {
   "cell_type": "code",
   "execution_count": 8,
   "id": "a95e8deb",
   "metadata": {
    "scrolled": true
   },
   "outputs": [
    {
     "data": {
      "text/plain": [
       "<AxesSubplot:>"
      ]
     },
     "execution_count": 8,
     "metadata": {},
     "output_type": "execute_result"
    },
    {
     "data": {
      "image/png": "[encoded data removed]",
      "text/plain": [
       "<Figure size 432x288 with 2 Axes>"
      ]
     },
     "metadata": {
      "needs_background": "light"
     },
     "output_type": "display_data"
    }
   ],
   "source": [
    "sns.heatmap(df.corr(), annot=True)"
   ]
  },
  {
   "cell_type": "markdown",
   "id": "d49cca3b",
   "metadata": {},
   "source": [
    "`bpm` and `dB` look to be relatively correlated. The scatterplot between these two is below:"
   ]
  },
  {
   "cell_type": "code",
   "execution_count": 9,
   "id": "b3ea00c6",
   "metadata": {},
   "outputs": [
    {
     "data": {
      "text/plain": [
       "<matplotlib.collections.PathCollection at 0x292cd818730>"
      ]
     },
     "execution_count": 9,
     "metadata": {},
     "output_type": "execute_result"
    },
    {
     "data": {
      "image/png": "[encoded data removed]",
      "text/plain": [
       "<Figure size 432x288 with 1 Axes>"
      ]
     },
     "metadata": {
      "needs_background": "light"
     },
     "output_type": "display_data"
    }
   ],
   "source": [
    "plt.pyplot.scatter(df[\"nrgy\"], df[\"dB\"])"
   ]
  },
  {
   "cell_type": "markdown",
   "id": "52ddc288",
   "metadata": {},
   "source": [
    "### `top year` vs. some feature\n",
    "\n",
    "Potentially can be used to see if some values of song features are more common in certain years/time frames"
   ]
  },
  {
   "cell_type": "code",
   "execution_count": 11,
   "id": "0c8b9ded",
   "metadata": {},
   "outputs": [
    {
     "data": {
      "text/plain": [
       "<matplotlib.collections.PathCollection at 0x292cdaf7fa0>"
      ]
     },
     "execution_count": 11,
     "metadata": {},
     "output_type": "execute_result"
    },
    {
     "data": {
      "image/png": "[encoded data removed]",
      "text/plain": [
       "<Figure size 432x288 with 1 Axes>"
      ]
     },
     "metadata": {
      "needs_background": "light"
     },
     "output_type": "display_data"
    }
   ],
   "source": [
    "plt.pyplot.scatter(df[\"top year\"], df[\"bpm\"])"
   ]
  },
  {
   "cell_type": "markdown",
   "id": "0a38ad37",
   "metadata": {},
   "source": [
    "## PRINCIPAL COMPONENT ANALYSIS\n",
    "\n",
    "#### Standardize Data"
   ]
  },
  {
   "cell_type": "code",
   "execution_count": null,
   "id": "0439e2bf",
   "metadata": {},
   "outputs": [],
   "source": [
    "from sklearn.preprocessing import StandardScaler\n",
    "features = [\"bpm\", \"nrgy\", \"live\", \"val\", \"dur\", \"acous\", \"spch\"]\n",
    "# Separating out the features\n",
    "x = df.loc[:, features].values\n",
    "# Separating out the target\n",
    "y = df.loc[:,[\"top year\"]].values\n",
    "# Standardizing the features\n",
    "x = StandardScaler().fit_transform(x)"
   ]
  },
  {
   "cell_type": "code",
   "execution_count": null,
   "id": "ee524fe6",
   "metadata": {},
   "outputs": [],
   "source": [
    "from sklearn.decomposition import PCA\n",
    "\n",
    "pca = PCA(n_components=2)\n",
    "principalComponents = pca.fit_transform(x)\n",
    "principalDf = pd.DataFrame(data = principalComponents,\n",
    "                           columns = ['principal component 1', 'principal component 2'])"
   ]
  },
  {
   "cell_type": "code",
   "execution_count": null,
   "id": "5c01847c",
   "metadata": {},
   "outputs": [],
   "source": [
    "principalDf"
   ]
  },
  {
   "cell_type": "code",
   "execution_count": null,
   "id": "9b044da3",
   "metadata": {},
   "outputs": [],
   "source": [
    "fin_df = pd.concat([principalDf, df[[\"top year\"]]], axis = 1)\n",
    "fin_df"
   ]
  },
  {
   "cell_type": "code",
   "execution_count": null,
   "id": "00d6cc42",
   "metadata": {},
   "outputs": [],
   "source": [
    "import matplotlib.pyplot as plt\n",
    "\n",
    "fig = plt.figure(figsize = (8,8))\n",
    "ax = fig.add_subplot(1,1,1) \n",
    "ax.set_xlabel('Principal Component 1', fontsize = 15)\n",
    "ax.set_ylabel('Principal Component 2', fontsize = 15)\n",
    "ax.set_title('2 component PCA', fontsize = 20)\n",
    "targets = [2010.0, 2013.0, 2019.0]\n",
    "colors = [\"r\", \"g\", \"b\"]\n",
    "for target, color in zip(targets,colors):\n",
    "    indicesToKeep = fin_df[\"top year\"] == target\n",
    "    ax.scatter(fin_df.loc[indicesToKeep, 'principal component 1']\n",
    "               , fin_df.loc[indicesToKeep, 'principal component 2']\n",
    "               , c = color\n",
    "               , s = 50)\n",
    "ax.legend(targets)\n",
    "ax.grid()"
   ]
  }
 ],
 "metadata": {
  "kernelspec": {
   "display_name": "Python 3 (ipykernel)",
   "language": "python",
   "name": "python3"
  },
  "language_info": {
   "codemirror_mode": {
    "name": "ipython",
    "version": 3
   },
   "file_extension": ".py",
   "mimetype": "text/x-python",
   "name": "python",
   "nbconvert_exporter": "python",
   "pygments_lexer": "ipython3",
   "version": "3.9.7"
  }
 },
 "nbformat": 4,
 "nbformat_minor": 5
}
